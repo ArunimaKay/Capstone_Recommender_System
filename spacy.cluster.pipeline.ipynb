{
 "cells": [
  {
   "cell_type": "markdown",
   "metadata": {},
   "source": [
    "# spaCy/HDBScan Feature Extraction Pipeline\n",
    "\n",
    "### Note: it can be quite complicated to install spaCy and sense2vec, given conflicting low-level requirements, so at this point I wouldn't suggest that others try to install the libraries and run this notebook.\n",
    "  \n",
    "However, it is well worth scanning down to the cell titled ***Harvesting Word Features***. In the output of that cell, there are examples of 52 feature clusters harvested by this process. The ultimate output of this process will produce a dataset containing a product ID (asin), overall rating, and word feature, for each word feature found in each product review. I don't consider these feature clusters as the final product, and we should discuss.\n",
    "\n",
    "\n",
    "### We can use this output for several purposes. \n",
    "\n",
    "1. First, we should be able to quite easily make the data available to th web interface, so that we can display the top n word features (by overall rating) associated with products returned.\n",
    "\n",
    "2. We will want to also include the user's selected word features in our model evaluation, to enable them to \"drill into\" selected features and thus explore the product/feature landscape.\n",
    "\n",
    "3. Finally, I think it would be worth training a model on a vectorized representation of the top n most highly rated features, which may give us another dimension for predicting rating based on feature combination/interaction."
   ]
  },
  {
   "cell_type": "code",
   "execution_count": 1,
   "metadata": {},
   "outputs": [],
   "source": [
    "import pandas as pd\n",
    "import gzip\n",
    "import time\n",
    "# Install a few python packages using pip\n",
    "from common import utils\n",
    "utils.require_package(\"wget\")      # for fetching dataset"
   ]
  },
  {
   "cell_type": "code",
   "execution_count": 10,
   "metadata": {},
   "outputs": [],
   "source": [
    "# Standard python helper libraries.\n",
    "from __future__ import print_function\n",
    "from __future__ import division\n",
    "import os, sys, time\n",
    "import collections\n",
    "import itertools\n",
    "\n",
    "# Numerical manipulation libraries.\n",
    "import numpy as np\n",
    "\n",
    "#Visualization\n",
    "import matplotlib\n",
    "%matplotlib inline\n",
    "\n",
    "import spacy\n",
    "#activated = spacy.prefer_gpu()\n",
    "\n",
    "import hdbscan\n",
    "import seaborn as sns\n",
    "from spacy.lemmatizer import Lemmatizer\n",
    "from spacy.lang.en import LEMMA_INDEX, LEMMA_EXC, LEMMA_RULES\n",
    "from spacy.tokens import Doc\n",
    "import tqdm"
   ]
  },
  {
   "cell_type": "code",
   "execution_count": 4,
   "metadata": {},
   "outputs": [
    {
     "name": "stdout",
     "output_type": "stream",
     "text": [
      "Reading English core web medium language data using spaCy...\n",
      "...finished reading English language model 'en_core_web_md' in 12.893219947814941 seconds.\n"
     ]
    }
   ],
   "source": [
    "plotting = True\n",
    "labels_words = False\n",
    "\n",
    "language_model = 'en_core_web_md'\n",
    "\n",
    "\n",
    "start = time.time()\n",
    "print(\"Reading English core web medium language data using spaCy...\")\n",
    "nlp = spacy.load(language_model)\n",
    "print(\"...finished reading English language model '{}' in {} seconds.\".format(language_model, time.time()-start))\n"
   ]
  },
  {
   "cell_type": "code",
   "execution_count": 5,
   "metadata": {},
   "outputs": [],
   "source": [
    "debug = False\n",
    "\n",
    "lemmas = {}\n",
    "ignore_words = []\n",
    "\n",
    "\n",
    "path_for_tf_metadata = './logdir/embedding_test'\n",
    "path_for_tf_ckpt = path_for_tf_metadata+'/embedding_test.ckpt'\n",
    "vectors_filepath = './data/vectors_each.tsv'\n",
    "metadata_filepath = './data/metadata_each.tsv'\n"
   ]
  },
  {
   "cell_type": "code",
   "execution_count": 6,
   "metadata": {},
   "outputs": [
    {
     "name": "stdout",
     "output_type": "stream",
     "text": [
      "Reading Pandas dataframe from reviews_Toys_and_Games_5.json.gz...\n",
      "start getDF\n",
      "start parse\n",
      "end parse with time for parse 7.405748128890991\n",
      "end getDF\n",
      "time taken to load data =  7.406217098236084\n",
      "...read reviews_Toys_and_Games_5.json.gz in 9.916450023651123 seconds.\n"
     ]
    }
   ],
   "source": [
    "def parse(path):\n",
    "  print('start parse')\n",
    "  start_parse = time.time()\n",
    "  g = gzip.open(path, 'rb')\n",
    "  for l in g:\n",
    "    yield eval(l)\n",
    "  end_parse = time.time()\n",
    "  print('end parse with time for parse',end_parse - start_parse)\n",
    "\n",
    "def getDF(path):\n",
    "  print('start getDF')\n",
    "  start = time.time()\n",
    "  i = 0\n",
    "  df = {}\n",
    "  for d in parse(path):\n",
    "    df[i] = d\n",
    "    i += 1\n",
    "  print('end getDF')\n",
    "  end = time.time()\n",
    "  print('time taken to load data = ',end-start)\n",
    "  return pd.DataFrame.from_dict(df, orient='index')\n",
    "\n",
    "start = time.time()\n",
    "print(\"Reading Pandas dataframe from reviews_Toys_and_Games_5.json.gz...\")\n",
    "df = getDF('./data/reviews_Toys_and_Games_5.json.gz')\n",
    "print(\"...read reviews_Toys_and_Games_5.json.gz in {} seconds.\".format(time.time()-start))"
   ]
  },
  {
   "cell_type": "code",
   "execution_count": 7,
   "metadata": {},
   "outputs": [
    {
     "name": "stdout",
     "output_type": "stream",
     "text": [
      "(167597, 9)\n",
      "Index(['summary', 'unixReviewTime', 'reviewerName', 'helpful', 'reviewText',\n",
      "       'asin', 'reviewTime', 'overall', 'reviewerID'],\n",
      "      dtype='object')\n"
     ]
    },
    {
     "data": {
      "text/html": [
       "<div>\n",
       "<style scoped>\n",
       "    .dataframe tbody tr th:only-of-type {\n",
       "        vertical-align: middle;\n",
       "    }\n",
       "\n",
       "    .dataframe tbody tr th {\n",
       "        vertical-align: top;\n",
       "    }\n",
       "\n",
       "    .dataframe thead th {\n",
       "        text-align: right;\n",
       "    }\n",
       "</style>\n",
       "<table border=\"1\" class=\"dataframe\">\n",
       "  <thead>\n",
       "    <tr style=\"text-align: right;\">\n",
       "      <th></th>\n",
       "      <th>summary</th>\n",
       "      <th>unixReviewTime</th>\n",
       "      <th>reviewerName</th>\n",
       "      <th>helpful</th>\n",
       "      <th>reviewText</th>\n",
       "      <th>asin</th>\n",
       "      <th>reviewTime</th>\n",
       "      <th>overall</th>\n",
       "      <th>reviewerID</th>\n",
       "    </tr>\n",
       "  </thead>\n",
       "  <tbody>\n",
       "    <tr>\n",
       "      <th>0</th>\n",
       "      <td>Magnetic board</td>\n",
       "      <td>1390953600</td>\n",
       "      <td>Angie</td>\n",
       "      <td>[0, 0]</td>\n",
       "      <td>I like the item pricing. My granddaughter want...</td>\n",
       "      <td>0439893577</td>\n",
       "      <td>01 29, 2014</td>\n",
       "      <td>5.0</td>\n",
       "      <td>A1VXOAVRGKGEAK</td>\n",
       "    </tr>\n",
       "    <tr>\n",
       "      <th>1</th>\n",
       "      <td>it works pretty good for moving to different a...</td>\n",
       "      <td>1395964800</td>\n",
       "      <td>Candace</td>\n",
       "      <td>[1, 1]</td>\n",
       "      <td>Love the magnet easel... great for moving to d...</td>\n",
       "      <td>0439893577</td>\n",
       "      <td>03 28, 2014</td>\n",
       "      <td>4.0</td>\n",
       "      <td>A8R62G708TSCM</td>\n",
       "    </tr>\n",
       "  </tbody>\n",
       "</table>\n",
       "</div>"
      ],
      "text/plain": [
       "                                             summary  unixReviewTime  \\\n",
       "0                                     Magnetic board      1390953600   \n",
       "1  it works pretty good for moving to different a...      1395964800   \n",
       "\n",
       "  reviewerName helpful                                         reviewText  \\\n",
       "0        Angie  [0, 0]  I like the item pricing. My granddaughter want...   \n",
       "1      Candace  [1, 1]  Love the magnet easel... great for moving to d...   \n",
       "\n",
       "         asin   reviewTime  overall      reviewerID  \n",
       "0  0439893577  01 29, 2014      5.0  A1VXOAVRGKGEAK  \n",
       "1  0439893577  03 28, 2014      4.0   A8R62G708TSCM  "
      ]
     },
     "execution_count": 7,
     "metadata": {},
     "output_type": "execute_result"
    }
   ],
   "source": [
    "print(df.shape)\n",
    "print(df.columns)\n",
    "df.head(2)"
   ]
  },
  {
   "cell_type": "code",
   "execution_count": 8,
   "metadata": {},
   "outputs": [
    {
     "data": {
      "text/plain": [
       "<matplotlib.axes._subplots.AxesSubplot at 0x1a4ac7ed68>"
      ]
     },
     "execution_count": 8,
     "metadata": {},
     "output_type": "execute_result"
    },
    {
     "data": {
      "image/png": "[encoded data removed]",
      "text/plain": [
       "<Figure size 432x288 with 1 Axes>"
      ]
     },
     "metadata": {
      "needs_background": "light"
     },
     "output_type": "display_data"
    }
   ],
   "source": [
    "#Number of reviews by product\n",
    "cnt_by_product = df[['asin','reviewText']].groupby('asin').agg('count')\n",
    "cnt_by_product['reviewText'].hist(bins = [0,1,2,3,4,5,10,15,20,50,100,500,1000])"
   ]
  },
  {
   "cell_type": "code",
   "execution_count": 16,
   "metadata": {},
   "outputs": [],
   "source": [
    "def consume_suspect_tokens(text, nlp, ignore_words, lemmas, ignore_initial=False):\n",
    "    \"\"\" Parse text and return ignored words at the begining of the phrase, along with the valid phrase (if any)\n",
    "    at the end of the phrase token.\n",
    "    \n",
    "    Args\n",
    "    ----------\n",
    "    ignore_initial (boolean) indicator of whether to ignore the first word in the phrase token (when a recursive call)\n",
    "    text (string)            text to be parsed, tokenized, and vectorized\n",
    "    nlp (spaCy pipeline)     pipeline to use for processing the input text\n",
    "    ignore_words (list)      collected set of words to be ignored, to which this function may add words\n",
    "    lemmas (dict)            dict of word->\n",
    "    \n",
    "    Returns:\n",
    "    ----------\n",
    "    None\n",
    "    \"\"\"\n",
    "    if ignore_initial:\n",
    "        token_parts = text.split(\" \")\n",
    "        first_word = token_parts[0]\n",
    "        \n",
    "        if first_word not in ignore_words:\n",
    "            ignore_words.append(first_word)\n",
    "            #print(\"Ignoring word '{}' in feature extraction...\".format(first_word))    \n",
    "        \n",
    "        if (\" \" in text) and (len(text.split(\" \"))>1):\n",
    "            text = \" \".join(token_parts[1:])\n",
    "        else:\n",
    "            return None\n",
    "\n",
    "    doc = nlp(text)\n",
    "    \n",
    "    for token in doc:\n",
    "        if debug:\n",
    "            print(token.text, token.lemma_, token.pos_, token.tag_, token.dep_,\n",
    "            token.shape_, token.is_alpha, token.is_stop, [child for child in token.children])\n",
    "        lower_token = token.text.lower()\n",
    "        if (lower_token is not None):\n",
    "            if (lower_token not in ignore_words):\n",
    "                if (token.lemma_ in IGNORED_LEMMAS) or (token.pos_ in IGNORED_POS):\n",
    "                    consume_suspect_tokens(text, nlp, ignore_words, lemmas, ignore_initial=True)\n",
    "                else:\n",
    "                    lemmas[token.text] = lower_token\n",
    "                \n",
    "        return None\n",
    "\n",
    "\n",
    "def get_vectors(text, nlp, ignore_words, lemmas):\n",
    "    \"\"\" <generator> Get embedding word vectors from a given text object. \n",
    "    Args\n",
    "    ----------\n",
    "    text (string)            text to be parsed, tokenized, and vectorized\n",
    "    nlp (spaCy pipeline)     pipeline to use for processing the input text\n",
    "    ignore_words (list)      collected set of words to be ignored, to which this function may add words\n",
    "    lemmas (dict)            dict of word->\n",
    "    \n",
    "    Generates:\n",
    "    ----------\n",
    "    processed text (string) \n",
    "    phrase vector (numpy.ndarray)\n",
    "    \"\"\"\n",
    "    \n",
    "    chunks_seen = []\n",
    "    consume_suspect_tokens(text, nlp, ignore_words, lemmas)\n",
    "              \n",
    "    doc = nlp(text)\n",
    "    #####\n",
    "    # Next, iterate through the sentences and within those the noun chunks.\n",
    "    # These noun chunks will be lemmatized and collected as potential features.\n",
    "    #####\n",
    "    for sent in doc.sents:\n",
    "        for chunk in sent.noun_chunks:\n",
    "           \n",
    "            if chunk.text not in chunks_seen:\n",
    "                chunks_seen.append(chunk.text)\n",
    "                processed_text = chunk.text\n",
    "                \n",
    "                lemmatized_tokens = []\n",
    "                \n",
    "                if lemmas is not None:\n",
    "                    \n",
    "                    for chunk_token in chunk.text.split(' '):\n",
    "                        lower_token = chunk_token.lower()\n",
    "                        if (ignore_words is None) or (lower_token not in ignore_words):\n",
    "                            \n",
    "                            try:\n",
    "                                this_lemma = lemmas[lower_token]\n",
    "                            except:\n",
    "                                this_lemma = lower_token\n",
    "                                \n",
    "                            lemmatized_tokens.append(this_lemma)\n",
    "                            \n",
    "                    if len(lemmatized_tokens)>0:\n",
    "                        processed_text = \" \".join(lemma for lemma in lemmatized_tokens)\n",
    "                    else:\n",
    "                        continue\n",
    "                    \n",
    "                yield processed_text, chunk.vector\n",
    "    "
   ]
  },
  {
   "cell_type": "code",
   "execution_count": 17,
   "metadata": {},
   "outputs": [],
   "source": [
    "def write_vectors(product, rating, concept_vec):\n",
    "    \"\"\"Write product, rating, phrase and sense vector to file\"\"\"\n",
    "    \n",
    "    with open(vectors_filepath, 'a') as out_v, open(metadata_filepath, 'a') as out_m:\n",
    "        phrase = concept_vec[0]\n",
    "        sense_vector = concept_vec[1]\n",
    "        out_m.write('{}\\t{}\\t{}\\n'.format(product, str(rating),phrase))\n",
    "        out_v.write('\\t'.join([str(x) for x in sense_vector]) + \"\\n\")\n"
   ]
  },
  {
   "cell_type": "code",
   "execution_count": 18,
   "metadata": {},
   "outputs": [
    {
     "name": "stdout",
     "output_type": "stream",
     "text": [
      "              reviewerID  reviewText\n",
      "0  A012468118FTQAINEI0OQ           6\n",
      "1   A0182108CPDLPRCXQUZQ           8\n",
      "2  A026961431MGW0616BRS3           6\n",
      "3  A034597326Z83X79S50FI           7\n",
      "4  A04295422T2ZG087R17FX           5\n",
      "         asin  reviewText\n",
      "0  0439893577          17\n",
      "1  048645195X          11\n",
      "2  0545496470           6\n",
      "3  0615444172           6\n",
      "4  0670010936          10\n"
     ]
    }
   ],
   "source": [
    "#Number of reviews by reviewer\n",
    "cnt_by_reviewer = df[['reviewerID','reviewText']].groupby('reviewerID').agg('count').reset_index()\n",
    "\n",
    "good_reviewers = cnt_by_reviewer[cnt_by_reviewer['reviewText']>4]\n",
    "print(good_reviewers[:5])\n",
    "\n",
    "good_products = cnt_by_product[cnt_by_product['reviewText']>4].reset_index()\n",
    "print(good_products[:5])"
   ]
  },
  {
   "cell_type": "code",
   "execution_count": 20,
   "metadata": {},
   "outputs": [
    {
     "name": "stdout",
     "output_type": "stream",
     "text": [
      "Sample vect[(300,)]\n",
      "There are 167597 total reviews for reviewers with at least 5 reviews each and products with at least 5 reviews each\n",
      "\n",
      "Collecting word concept vectors for 1001 reviews...\n",
      "Starting iteration over reviews 0-200...\n",
      "...completed processing 200 reviews in 12.119228839874268 seconds.\n",
      "Starting iteration over reviews 200-400...\n",
      "...completed processing 200 reviews in 14.87395691871643 seconds.\n",
      "Starting iteration over reviews 400-600...\n",
      "...completed processing 200 reviews in 12.465951919555664 seconds.\n",
      "Starting iteration over reviews 600-800...\n",
      "...completed processing 200 reviews in 15.583565950393677 seconds.\n",
      "Starting iteration over reviews 800-1000...\n",
      "...completed processing 200 reviews in 12.564543008804321 seconds.\n",
      "...Collected 800 word vectors in 67.73524498939514 seconds.\n"
     ]
    }
   ],
   "source": [
    "# Here are the controls for ignored words in the review\n",
    "IGNORED_LEMMAS = ['-PRON-']\n",
    "IGNORED_POS = ['PUNCT', 'SPACE', 'PART', 'DET']\n",
    "\n",
    "write_to_file = True\n",
    "\n",
    "!rm -f ./vectors_each.tsv\n",
    "!rm -f ./metadata_each.tsv\n",
    "\n",
    "sample_vect = [vec for vec in get_vectors(\"example\", nlp, ignore_words, lemmas)][0][1]\n",
    "vect_dim = sample_vect.shape\n",
    "print(\"Sample vect[{}]\".format(vect_dim))\n",
    "index = []\n",
    "output = None\n",
    "\n",
    "total_start = time.time()\n",
    "\n",
    "good_reviews = df[df['reviewerID'].isin(good_reviewers['reviewerID'])][df['asin'].isin(good_products['asin'])]\n",
    "\n",
    "print(\"There are {} total reviews for reviewers with at least 5 reviews each and products with at least 5 reviews each\".format(len(good_reviews)))\n",
    "\n",
    "iteration_size = 200\n",
    "#iter_limit = len(good_reviews)\n",
    "iter_limit = 1001\n",
    "\n",
    "\n",
    "print(\"\\nCollecting word concept vectors for {} reviews...\".format(iter_limit))\n",
    "\n",
    "for iteration in range(int(iter_limit/iteration_size)):\n",
    "\n",
    "    print(\"Starting iteration over reviews {}-{}...\".format(iteration*iteration_size,\n",
    "                                                            (iteration+1)*iteration_size))\n",
    "    iter_start_time = time.time()\n",
    "\n",
    "    for iter_ind in range(iteration_size):\n",
    "    \n",
    "        review_ind = iteration*iteration_size + iter_ind\n",
    "        \n",
    "        reviewer = good_reviews['reviewerID'].iloc[review_ind]\n",
    "        product = good_reviews['asin'].iloc[review_ind]\n",
    "    \n",
    "        rating = good_reviews['overall'].iloc[review_ind]\n",
    "        review = good_reviews['reviewText'].iloc[review_ind]\n",
    "    \n",
    "        #print(review)\n",
    "        for concept_vec in get_vectors(review, nlp, ignore_words, lemmas):\n",
    "            \n",
    "            if write_to_file:\n",
    "                # Append data to files for later reading\n",
    "                write_vectors(product, rating, concept_vec)\n",
    "            else:\n",
    "                # Append data to a list and a numpy array\n",
    "                index.append([product, rating, concept_vec[0]])\n",
    "        \n",
    "                if output is None:\n",
    "                    # Create an np.array with the first row as the retrieved word vector\n",
    "                    output = np.array([concept_vec[1]])\n",
    "                else:\n",
    "                    # Append the next vector to the end of the vectors array\n",
    "                    output = np.append(output, np.array([concept_vec[1]]), axis=0)            \n",
    "\n",
    "    print(\"...completed processing {} reviews in {} seconds.\".format(iteration_size, time.time()-iter_start_time))\n",
    "    \n",
    "print(\"...Collected {} word vectors in {} seconds.\".format(iteration*iteration_size, time.time()-total_start))\n"
   ]
  },
  {
   "cell_type": "code",
   "execution_count": 23,
   "metadata": {},
   "outputs": [
    {
     "name": "stdout",
     "output_type": "stream",
     "text": [
      "vectors file contains 957864 lines\n",
      "This sample probability will include 9621 samples from the generated sense vectors.\n"
     ]
    }
   ],
   "source": [
    "import tqdm\n",
    "\n",
    "def file_len(fname):\n",
    "    with open(fname) as f:\n",
    "        for i, l in enumerate(f):\n",
    "            pass\n",
    "    return i + 1\n",
    "\n",
    "vdim = file_len(vectors_filepath)\n",
    "print(\"vectors file contains {} lines\".format(vdim))\n",
    "index = []\n",
    "output = None\n",
    "\n",
    "sample_prob=0.01\n",
    "# Generate random samples set, used for both the vectors file and the metadata file so the elements match\n",
    "samples = np.random.choice(a=[True,False], size=vdim, p=[sample_prob,1.0-sample_prob])\n",
    "print(\"This sample probability will include {} samples from the generated sense vectors.\".format(sum(samples)))"
   ]
  },
  {
   "cell_type": "code",
   "execution_count": 24,
   "metadata": {},
   "outputs": [
    {
     "name": "stderr",
     "output_type": "stream",
     "text": [
      "  1%|          | 9413/957864 [00:00<00:10, 94129.19it/s]"
     ]
    },
    {
     "name": "stdout",
     "output_type": "stream",
     "text": [
      "File ./data/vectors_each.tsv contains sense vectors of dimension 957864\n"
     ]
    },
    {
     "name": "stderr",
     "output_type": "stream",
     "text": [
      "100%|██████████| 957864/957864 [06:35<00:00, 2419.41it/s] "
     ]
    },
    {
     "name": "stdout",
     "output_type": "stream",
     "text": [
      "Output shape: (9621, 300)\n"
     ]
    },
    {
     "name": "stderr",
     "output_type": "stream",
     "text": [
      "\n"
     ]
    }
   ],
   "source": [
    "# Read the vectors file back in, in case you want to restart from here.\n",
    "\n",
    "with open(vectors_filepath, 'r') as in_v:\n",
    "    print('File {} contains {} sense vectors.'.format(vectors_filepath, vdim))\n",
    "    curr_line = 0\n",
    "    t = tqdm.tqdm(total=vdim)\n",
    "    \n",
    "    for line in in_v:\n",
    "        sample_this_row = samples[curr_line]\n",
    "        \n",
    "        if sample_this_row:\n",
    "            if output is None:\n",
    "                # Create an np.array with the first row as the retrieved word vector\n",
    "                output = np.array([np.array(line.split('\\t'))])\n",
    "            else:\n",
    "                # Append the next vector to the end of the vectors array\n",
    "                output = np.append(output, np.array([np.array(line.split('\\t'))]), axis=0)\n",
    "                \n",
    "        curr_line += 1\n",
    "        t.update()\n",
    "        #if len(output)>2:        \n",
    "        #    break\n",
    "    t.close()\n",
    "\n",
    "\n",
    "print(\"Output shape: {}\".format(output.shape))\n"
   ]
  },
  {
   "cell_type": "code",
   "execution_count": 44,
   "metadata": {},
   "outputs": [
    {
     "name": "stdout",
     "output_type": "stream",
     "text": [
      "Creating word clusters from word vectors...\n"
     ]
    },
    {
     "name": "stderr",
     "output_type": "stream",
     "text": [
      "/Users/burgew/miniconda3/envs/spacy3.5/lib/python3.5/site-packages/sklearn/utils/validation.py:558: FutureWarning: Beginning in version 0.22, arrays of bytes/strings will be converted to decimal numbers if dtype='numeric'. It is recommended that you convert the array to a float dtype before using it in scikit-learn, for example by using your_array = your_array.astype(np.float64).\n",
      "  FutureWarning)\n",
      "/Users/burgew/miniconda3/envs/spacy3.5/lib/python3.5/site-packages/sklearn/utils/validation.py:558: FutureWarning: Beginning in version 0.22, arrays of bytes/strings will be converted to decimal numbers if dtype='numeric'. It is recommended that you convert the array to a float dtype before using it in scikit-learn, for example by using your_array = your_array.astype(np.float64).\n",
      "  FutureWarning)\n"
     ]
    },
    {
     "name": "stdout",
     "output_type": "stream",
     "text": [
      "...completed clustering in 57.96712398529053 seconds.\n"
     ]
    }
   ],
   "source": [
    "# Fit an HDBScan model using the sampled sense vectors\n",
    "\n",
    "HDBSCAN_METRIC = 'manhattan'\n",
    "\n",
    "start = time.time()\n",
    "print(\"Creating word clusters from word vectors...\")\n",
    "hdbscanner = hdbscan.HDBSCAN(min_cluster_size=10, min_samples=5, \n",
    "                             metric=HDBSCAN_METRIC, gen_min_span_tree=True, prediction_data=True)\n",
    "hdbscanner.fit(output)\n",
    "print(\"...completed clustering in {} seconds.\".format(time.time()-start))\n",
    "\n",
    "\n",
    "import pickle \n",
    "with open('./data/hdbscanner.{}.pickle'.format(len(output)), 'wb') as pickle_file:\n",
    "    pickle.dump(hdbscanner, pickle_file)"
   ]
  },
  {
   "cell_type": "code",
   "execution_count": 45,
   "metadata": {},
   "outputs": [
    {
     "name": "stdout",
     "output_type": "stream",
     "text": [
      "Condensing the linkage tree and then plotting...\n",
      "...plotted condensed tree in 2.2661709785461426 seconds.\n",
      "Found 115 clusters\n"
     ]
    },
    {
     "data": {
      "image/png": "[encoded data removed]",
      "text/plain": [
       "<Figure size 432x288 with 3 Axes>"
      ]
     },
     "metadata": {
      "needs_background": "light"
     },
     "output_type": "display_data"
    }
   ],
   "source": [
    "# Plot the condensed cluster tree\n",
    "\n",
    "if plotting:\n",
    "\tstart = time.time()\n",
    "\tprint(\"Condensing the linkage tree and then plotting...\")\n",
    "\t#hdbscanner.single_linkage_tree_.plot(cmap='viridis', colorbar=True)\n",
    "\thdbscanner.condensed_tree_.plot()\n",
    "\thdbscanner.condensed_tree_.plot(select_clusters=True, selection_palette=sns.color_palette())\n",
    "\tprint(\"...plotted condensed tree in {} seconds.\".format(time.time()-start))\n",
    "\ttree = hdbscanner.condensed_tree_\n",
    "\tprint(\"Found {} clusters\".format(len(tree._select_clusters())))\n",
    "\tmatplotlib.pyplot.show()"
   ]
  },
  {
   "cell_type": "code",
   "execution_count": 46,
   "metadata": {},
   "outputs": [],
   "source": [
    "def exemplars(cluster_id, condensed_tree):\n",
    "    \"\"\" Collect and return the exemplar words for each cluster. \"\"\"\n",
    "    raw_tree = condensed_tree._raw_tree\n",
    "    # Just the cluster elements of the tree, excluding singleton points\n",
    "    cluster_tree = raw_tree[raw_tree['child_size'] > 1]\n",
    "    # Get the leaf cluster nodes under the cluster we are considering\n",
    "    leaves = hdbscan.plots._recurse_leaf_dfs(cluster_tree, cluster_id)\n",
    "    # Now collect up the last remaining points of each leaf cluster (the heart of the leaf)\n",
    "    result = np.array([])\n",
    "    for leaf in leaves:\n",
    "        max_lambda = raw_tree['lambda_val'][raw_tree['parent'] == leaf].max()\n",
    "        points = raw_tree['child'][(raw_tree['parent'] == leaf) & \n",
    "                                   (raw_tree['lambda_val'] == max_lambda)]\n",
    "        result = np.hstack((result, points))\n",
    "    return result.astype(np.int)"
   ]
  },
  {
   "cell_type": "code",
   "execution_count": 47,
   "metadata": {},
   "outputs": [
    {
     "name": "stdout",
     "output_type": "stream",
     "text": [
      "Selecting clusters in tree...\n",
      "...finished selecting clusters in 0.020389080047607422 seconds.\n",
      "Found 115 clusters\n",
      "File ./data/metadata_each.tsv contains index entries of of dimension 957864\n",
      "Index(28863, 3): [['0439893577', '4.0', 'it'], ['048645195X', '5.0', 'these designs'], ['0615444172', '5.0', 'best incentive'], ['0735321396', '4.0', 'grandson'], ['0735321396', '5.0', 'it']]\n",
      "All Points(957864, 3): [['0439893577', '5.0', 'i'], ['0439893577', '5.0', 'item pricing'], ['0439893577', '5.0', 'granddaughter'], ['0439893577', '5.0', 'it'], ['0439893577', '5.0', 'letters']]\n",
      "File ./data/metadata_each.tsv contains 957864 index entries.\n"
     ]
    }
   ],
   "source": [
    "tree = hdbscanner.condensed_tree_\n",
    "\n",
    "#print('Index, for reference:')\n",
    "#for ind, entry in enumerate(index):\n",
    "#    print(\"cluster: {}, ind: {}, entry: {}\".format(hdbscanner.labels_[ind], ind, entry))\n",
    "\n",
    "start = time.time()\n",
    "print(\"Selecting clusters in tree...\")\n",
    "clusters = tree._select_clusters()\n",
    "print(\"...finished selecting clusters in {} seconds.\".format(time.time()-start))\n",
    "\n",
    "initial_cluster_count = len(clusters)\n",
    "print(\"Found {} clusters\".format(initial_cluster_count))\n",
    "\n",
    "all_points = []\n",
    "labels = []\n",
    "\n",
    "# iterate through the input metadata once, to collect all words and the labels for the sampled points\n",
    "with open(metadata_filepath, 'r') as in_m, open(path_for_tf_metadata+'/metadata.tsv', 'w') as out_tf_meta:\n",
    "\tmdim = None\n",
    "\tcurr_line = 0\n",
    "\tfor line in in_m:\n",
    "\t\tif mdim is None:\n",
    "\t\t\tmdim = line.count('\\t')+1\n",
    "\t\t\tprint('File {} contains index entries of of dimension {}'.format(metadata_filepath, vdim))\n",
    "\t\tif line.endswith('\\n'):\n",
    "\t\t\tline = line[:-1]\n",
    "\t\tall_points.append(line.split('\\t'))\n",
    "\t\tsample_this_row = samples[curr_line]\n",
    "\t\tif sample_this_row:\n",
    "\t\t\tmeta_line = line.split('\\t')\n",
    "\t\t\tindex.append(meta_line)\n",
    "\t\t\tif labels_words:\n",
    "\t\t\t\tlabels.append(meta_line[2])\n",
    "\t\tcurr_line += 1\n",
    "\n",
    "print(\"Index({}, {}): {}\".format(len(index), len(index[0]), index[:5]))\n",
    "\n",
    "print(\"All Points({}, {}): {}\".format(len(all_points), len(all_points[0]), all_points[:5]))\n",
    "\n",
    "# then, iterate through the input metadata again, to apply the cluster labels, if labels_words is False\n",
    "with open(metadata_filepath, 'r') as in_m, open(path_for_tf_metadata+'/metadata.tsv', 'w') as out_tf_meta:\n",
    "\tmdim = None\n",
    "\tcurr_line = 0\n",
    "\tcurr_sample = 0\n",
    "\n",
    "\tfor line in in_m:\n",
    "\t\tif mdim is None:\n",
    "\t\t\tmdim = line.count('\\t')+1\n",
    "\t\t\tprint('File {} contains {} index entries.'.format(metadata_filepath, vdim))\n",
    "\t\tif line.endswith('\\n'):\n",
    "\t\t\tline = line[:-1]\n",
    "\t\tsample_this_row = samples[curr_line]\n",
    "\t\tif sample_this_row:\n",
    "\t\t\tindex.append(line.split('\\t'))\n",
    "\t\t\tif not labels_words:\n",
    "\t\t\t\tlabels.append(\"-\")\n",
    "\t\t\tcurr_sample += 1\n",
    "\t\tcurr_line += 1\n"
   ]
  },
  {
   "cell_type": "code",
   "execution_count": 48,
   "metadata": {},
   "outputs": [
    {
     "name": "stdout",
     "output_type": "stream",
     "text": [
      "\n",
      "Found 20 clusters (17.391304347826086% of initially collected):\n",
      "\n",
      "Exemplars: anyone\n",
      "Members: anyone, anybody, most anyone\n",
      "\n",
      "Exemplars: elf\n",
      "Members: doll, their elf, your elf, elf doll, elf, our elf\n",
      "\n",
      "Exemplars: colors\n",
      "Members: same color, colors, color, six colors, those colors, one color, only one color\n",
      "\n",
      "Exemplars: my daughter, daughter\n",
      "Members: my daughter, youngest daughter, granddaughter, sister, daughters, niece, daughter\n",
      "\n",
      "Exemplars: rulebook, rules\n",
      "Members: basic rules, rules, complicated rules, rule, new rules, rulebook\n",
      "\n",
      "Exemplars: the cards, cards\n",
      "Members: right cards, title card, each card set, more cards, that card, card/deck version, question cards, one card, cards, same cards, two new cards, card loving role, all those cards, most cards, card, larger cards, that one card, several cards, some cards, single card, three cards, question card, these cards, lucky card, card game--, six cards, two cards, destination cards, the cards, four cards, every card, five new cards, each card, ashardalon's card, waterdeep card\n",
      "\n",
      "Exemplars: toy\n",
      "Members: best toys, most other toys, many other toys, other toys, coolest toy, toys, toy, same toy, these toys\n",
      "\n",
      "Exemplars: 2 year old son, 6 year old niece, 7 year old son, 3 year old son, 6 year old son, 3 year old daughter, 9 year old daughter, 10 year old daughter, 7 year old daughter\n",
      "Members: just turned 8 year old daughter, 2 year old son, 7 year old son, her 2.5 yr old sister, 2 1/2 year old son, 3 year old boy, 3 year old daughter, differently able 10 yr old daughter, six year old boys, 5 year old, 9 year old, 30 year old parents, four year old grandson, 6 year old niece, his thirty one year old friend, then 2 1/2 year old son, 4 year old playing, six year old daughter, 7 yr old son, 5 and 6 year old daughters, 6yr old daughter, 19 month old boy, his 20 month old sister, 3 year old and one year old twins, 19 year old son, 3 and 6 year old boys, 6 year old sibling, 10 year old daughter, three year old likes, 4 & 5 last christmas, 14 month son, 7 year old daughter, 3 year old son, 6 year old son, 9 year old daughter, three and five year old girls, our 6 year old struggles\n",
      "\n",
      "Exemplars: kids\n",
      "Members: kids, older kids, younger kids\n",
      "\n",
      "Exemplars: certain number, set number, a number, number\n",
      "Members: set number, set, a number, number, new one, certain number, new place, significant set, new present, different place, new set, different set\n",
      "\n",
      "Exemplars: great gift, gift\n",
      "Members: better gift, great gift, gift, also very fun gift, birthday gift\n",
      "\n",
      "Exemplars: pieces\n",
      "Members: just pieces, pieces, little pieces, all pieces\n",
      "\n",
      "Exemplars: game\n",
      "Members: game play, same boring game, few games, second full game, exact same game, your game, best game, your game play, just few games, first few games, first game, your games, same game, entire game, original game, games, one entire game, game, worst game\n",
      "\n",
      "Exemplars: one\n",
      "Members: one, another time, one time\n",
      "\n",
      "Exemplars: great game\n",
      "Members: great looking game, very nice game, good game, great game, really fun game, still wonderful game, not so much great game, what fun game, great and frustrating game, just fun game, fun family game, such great game, still great game, fun game\n",
      "\n",
      "Exemplars: couple\n",
      "Members: just couple, even couple, couple, quite few non-american ones\n",
      "\n",
      "Exemplars: great time, great one, great way, walk- great, way\n",
      "Members: walk- great, wonderful time, great addition, perfect way, a good time, short time, great one, great way, great time, nice addition, time, long time, way\n",
      "\n",
      "Exemplars: while\n",
      "Members: quite while, good while, while\n",
      "\n",
      "Exemplars: same way, only bad thing, only way, only thing\n",
      "Members: thing, whole thing, all fun, only bad thing, only way, same turn, fun part, other thing, only thing, fun, other fun thing, way, same way\n",
      "\n",
      "Exemplars: time\n",
      "Members: time, first time, very first time, next time, same time\n",
      "\n",
      "There were 5765 words that were considered noise.\n"
     ]
    }
   ],
   "source": [
    "selected_clusters = []\n",
    "\n",
    "for i, c in enumerate(clusters):\n",
    "\tc_exemplars = exemplars(c, tree)\n",
    "\n",
    "\tpoint_label = None\n",
    "\tcluster_exemplars = set()\n",
    "\tfor ind, ex_ind in enumerate(c_exemplars):\n",
    "\t\t#print(\"Exemplar -- {} : {}\".format(index[ex_ind][0], index[ex_ind][2]))\n",
    "\t\tcluster_exemplars.add(index[ex_ind][2])\n",
    "\t\tif point_label is None:\n",
    "\t\t\tpoint_label = index[ex_ind][2]\n",
    "    \n",
    "\tmembers = set()\n",
    "\tfor label_ind, label in np.ndenumerate(hdbscanner.labels_):\n",
    "\t\tif label == i:\n",
    "\t\t\tmembers.add(index[label_ind[0]][2])\n",
    "\t\t\tif not labels_words:\n",
    "\t\t\t\tlabels[label_ind[0]] = point_label\n",
    "            \n",
    "            #print(\"Member: {} : {}\".format(index[label_ind[0]][0], index[label_ind[0]][2]))\n",
    "    \n",
    "\texemplars_len = float(len(cluster_exemplars))\n",
    "\tmembers_len = float(len(members))\n",
    "    \n",
    "    # Look for clusters where the members outnumber the exemplars by 2 times\n",
    "\tif ((exemplars_len>0) and (len(members)>(2.0*exemplars_len))):\n",
    "    \n",
    "\t\texample_cluster_exemplars = \", \".join(cluster_exemplars)\n",
    "\t\texample_cluster_members = \", \".join(members)\n",
    "        \n",
    "\t\tselected_clusters.append([example_cluster_exemplars, example_cluster_members])\n",
    "\n",
    "selected_cluster_count = len(selected_clusters)\n",
    "if (selected_cluster_count>0):\n",
    "    print(\"\\nFound {} clusters ({}% of initially collected):\".\n",
    "          format(len(selected_clusters), 100.0*float(selected_cluster_count)/float(initial_cluster_count)))\n",
    "    for example in selected_clusters:\n",
    "        print(\"\\nExemplars: {}\".format(example[0]))\n",
    "        print(\"Members: {}\".format(example[1]))\n",
    "\n",
    "with open(path_for_tf_metadata+'/metadata.tsv', 'w') as out_tf_meta:\n",
    "\tfor label in labels:\n",
    "\t\tout_tf_meta.write(str(label)+'\\n')\n",
    "                                                                    \n",
    "noise_count = sum([1 for label in hdbscanner.labels_ if label == -1])\n",
    "print(\"\\nThere were {} words that were considered noise.\".format(noise_count))\n"
   ]
  },
  {
   "cell_type": "code",
   "execution_count": 49,
   "metadata": {},
   "outputs": [
    {
     "name": "stdout",
     "output_type": "stream",
     "text": [
      "fitting shape:\n",
      "[[ 0.0013629   0.35653    -0.055497   ... -0.11237     0.078259\n",
      "   0.22398   ]\n",
      " [-0.0809065  -0.013005   -0.3085235  ...  0.0526415   0.34908497\n",
      "   0.02017   ]\n",
      " [ 0.13602    -0.031015   -0.0942     ...  0.065075   -0.091585\n",
      "   0.06615   ]\n",
      " ...\n",
      " [-0.1542365   0.04899999 -0.210735   ...  0.2158745   0.2701\n",
      "  -0.217215  ]\n",
      " [-0.00740667 -0.07764267 -0.18821    ... -0.06809667  0.11845332\n",
      "  -0.25808   ]\n",
      " [ 0.23648     0.39091    -0.095802   ...  0.13228     0.36417\n",
      "  -0.28676   ]]\n"
     ]
    }
   ],
   "source": [
    "# Prepare for a tensorboard visualization\n",
    "\n",
    "import tensorflow as tf\n",
    "\n",
    "output_init = tf.constant_initializer(output)\n",
    "\n",
    "print('fitting shape:')\n",
    "tf.reset_default_graph()\n",
    "with tf.Session() :\n",
    "    embedding_var = tf.get_variable('embedding_var', shape=[len(output), len(output[0])], initializer=tf.constant_initializer(output), dtype=tf.float32)\n",
    "    embedding_var.initializer.run()\n",
    "    print(embedding_var.eval())\n",
    "    \n",
    "sess = tf.Session()\n",
    "\n",
    "sess.run(embedding_var.initializer)\n",
    "\n",
    "\n",
    "with open(path_for_tf_ckpt,'w') as f:\n",
    "    f.write(\"Index\\tLabel\\n\")\n",
    "    for ind,label_line in enumerate(index):\n",
    "        label = '{}:{}:{}'.format(label_line[0], label_line[1], label_line[2])\n",
    "        f.write(\"%d\\t%s\\n\" % (ind,label))\n"
   ]
  },
  {
   "cell_type": "code",
   "execution_count": 50,
   "metadata": {},
   "outputs": [],
   "source": [
    "# Generate the tensorboard embedding visualization\n",
    "# To view it, run command \"tensorboard --port=6006 --logdir=./logdir\" on your computer and then \n",
    "# open http://localhost:6006 in a browser.\n",
    "\n",
    "from tensorflow.contrib.tensorboard.plugins import projector\n",
    "\n",
    "with tf.Session() as sess:\n",
    "    tf.global_variables_initializer().run()\n",
    "    # Create summary writer.\n",
    "    writer = tf.summary.FileWriter(path_for_tf_metadata, sess.graph)\n",
    "    # Initialize embedding_var\n",
    "    sess.run(embedding_var.initializer)\n",
    "    # Create Projector config\n",
    "    config = projector.ProjectorConfig()\n",
    "    # Add embedding visualizer\n",
    "    embedding = config.embeddings.add()\n",
    "    # Attache the name 'embedding'\n",
    "    embedding.tensor_name = embedding_var.name\n",
    "    # Metafile which is described later\n",
    "    embedding.metadata_path = 'metadata.tsv'\n",
    "    # Add writer and config to Projector\n",
    "    projector.visualize_embeddings(writer, config)\n",
    "    # Save the model\n",
    "    saver_embed = tf.train.Saver([embedding_var])\n",
    "    saver_embed.save(sess, path_for_tf_ckpt, 1)\n",
    "\n",
    "writer.close()"
   ]
  },
  {
   "cell_type": "code",
   "execution_count": 51,
   "metadata": {},
   "outputs": [],
   "source": [
    "def generate_sample_vectors(text, nlp, ignore_words, lemmas):\n",
    "    \"\"\" Preprocess test text content, for predicting labels.\"\"\"\n",
    "    \n",
    "    sample_index = []\n",
    "    sample_vectors = None\n",
    "    \n",
    "    for concept_vec in get_vectors(text, nlp, ignore_words, lemmas):\n",
    "            \n",
    "        # Append data to a list and a numpy array\n",
    "        sample_index.append([product, rating, concept_vec[0]])\n",
    "        \n",
    "        if sample_vectors is None:\n",
    "            # Create an np.array with the first row as the retrieved word vector\n",
    "            sample_vectors = np.array([concept_vec[1]])\n",
    "        else:\n",
    "            # Append the next vector to the end of the vectors array\n",
    "            sample_vectors = np.append(sample_vectors, np.array([concept_vec[1]]), axis=0)            \n",
    "    \n",
    "    return sample_index, sample_vectors"
   ]
  },
  {
   "cell_type": "code",
   "execution_count": 70,
   "metadata": {},
   "outputs": [],
   "source": [
    "def get_sample_labels(cluster_ind):\n",
    "    sample_labels = set()\n",
    "    for word_ind in exemplars(clusters[cluster_ind], tree):\n",
    "        sample_labels.add(index[word_ind][2])\n",
    "        \n",
    "    return sample_labels"
   ]
  },
  {
   "cell_type": "code",
   "execution_count": 79,
   "metadata": {},
   "outputs": [
    {
     "name": "stdout",
     "output_type": "stream",
     "text": [
      "test_labels:  [ 1 90 -1 19 -1 59 -1 -1 31 -1 -1]\n",
      "Phrase 'i' is predicted to have labels {'i'}.\n",
      "Phrase 'it' is predicted to have labels {'it'}.\n",
      "Phrase 'children' is predicted to have labels {'children'}.\n",
      "Phrase 'whole family' is predicted to have labels {'original version', 'addams family', 'family', 'whole family', 'old version', 'family version', 'version'}.\n",
      "Phrase 'something' is predicted to have labels {'something'}.\n"
     ]
    }
   ],
   "source": [
    "sample_text = \"I would buy this again. It was a very good deal and good for children 2-4. Usually, this is good fun and good for the whole family, brothers, sisters and friends. Another with a magnetic personality was buying sweets for his sweet. Something should be done to handle all shapes and sizes and enable then to be put together.\"\n",
    "\n",
    "sample_index, sample_vectors = generate_sample_vectors(sample_text, nlp, ignore_words, lemmas)\n",
    "\n",
    "test_labels, strengths = hdbscan.approximate_predict(hdbscanner, sample_vectors)\n",
    "print(\"test_labels: \",test_labels)\n",
    "\n",
    "for ind, word_index in enumerate(sample_index):\n",
    "    if (test_labels[ind] >0):\n",
    "        print(\"Phrase '{}' is predicted to have labels {}.\".format(word_index[2], get_sample_labels(test_labels[ind])))"
   ]
  },
  {
   "cell_type": "code",
   "execution_count": null,
   "metadata": {},
   "outputs": [],
   "source": []
  }
 ],
 "metadata": {
  "kernelspec": {
   "display_name": "Python [conda env:spacy3.5]",
   "language": "python",
   "name": "conda-env-spacy3.5-py"
  },
  "language_info": {
   "codemirror_mode": {
    "name": "ipython",
    "version": 3
   },
   "file_extension": ".py",
   "mimetype": "text/x-python",
   "name": "python",
   "nbconvert_exporter": "python",
   "pygments_lexer": "ipython3",
   "version": "3.5.6"
  }
 },
 "nbformat": 4,
 "nbformat_minor": 2
}
