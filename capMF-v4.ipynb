{
 "cells": [
  {
   "cell_type": "code",
   "execution_count": 1,
   "metadata": {},
   "outputs": [],
   "source": [
    "import pandas as pd\n",
    "import numpy as np\n",
    "import random\n",
    "\n",
    "import os\n",
    "import gzip\n",
    "import json\n",
    "import time\n",
    "\n",
    "np.random.seed(0)\n",
    "\n",
    "import scipy.sparse as sparse\n",
    "from scipy.sparse.linalg import spsolve\n",
    "\n",
    "from sklearn import metrics\n",
    "from sklearn.metrics.pairwise import cosine_similarity\n",
    "from sklearn.metrics import mean_squared_error\n"
   ]
  },
  {
   "cell_type": "code",
   "execution_count": 2,
   "metadata": {},
   "outputs": [],
   "source": [
    "import matplotlib.pyplot as plt\n",
    "import matplotlib as mpl\n",
    "%matplotlib inline\n",
    "import matplotlib.gridspec as gridspec\n",
    "\n",
    "import seaborn as sns\n",
    "sns.set_style(\"whitegrid\")"
   ]
  },
  {
   "cell_type": "code",
   "execution_count": 3,
   "metadata": {},
   "outputs": [],
   "source": [
    "def parse(path):\n",
    "    g = gzip.open(path, 'rb')\n",
    "    for l in g:\n",
    "        yield eval(l)\n",
    "\n",
    "def getDF(path):\n",
    "    i = 0\n",
    "    df_ = {}\n",
    "    for d in parse(path):\n",
    "        df_[i] = d\n",
    "        i += 1\n",
    "    return pd.DataFrame.from_dict(df_, orient='index')"
   ]
  },
  {
   "cell_type": "code",
   "execution_count": 4,
   "metadata": {},
   "outputs": [
    {
     "name": "stdout",
     "output_type": "stream",
     "text": [
      "Total time taken for loading the dataframe: 17.310710668563843\n",
      "Index(['reviewerID', 'asin', 'reviewerName', 'helpful', 'reviewText',\n",
      "       'overall', 'summary', 'unixReviewTime', 'reviewTime'],\n",
      "      dtype='object')\n",
      "278677\n",
      "       reviewerID        asin                 reviewerName helpful  \\\n",
      "0  A1KLRMWW2FWPL4  0000031887  Amazon Customer \"cameramom\"  [0, 0]   \n",
      "\n",
      "                                          reviewText  overall  \\\n",
      "0  This is a great tutu and at a really great pri...      5.0   \n",
      "\n",
      "                         summary  unixReviewTime   reviewTime  \n",
      "0  Great tutu-  not cheaply made      1297468800  02 12, 2011  \n"
     ]
    }
   ],
   "source": [
    "_f = 'reviews_Clothing_Shoes_and_Jewelry_5.json.gz'\n",
    "start = time.time()\n",
    "fd = getDF(_f)\n",
    "print('Total time taken for loading the dataframe:', time.time() - start)\n",
    "print(fd.columns)\n",
    "print(len(fd))\n",
    "print(fd.head(1))"
   ]
  },
  {
   "cell_type": "code",
   "execution_count": 5,
   "metadata": {},
   "outputs": [
    {
     "name": "stderr",
     "output_type": "stream",
     "text": [
      "/home/elkayvee/anaconda3/lib/python3.6/site-packages/ipykernel_launcher.py:2: SettingWithCopyWarning: \n",
      "A value is trying to be set on a copy of a slice from a DataFrame.\n",
      "Try using .loc[row_indexer,col_indexer] = value instead\n",
      "\n",
      "See the caveats in the documentation: http://pandas.pydata.org/pandas-docs/stable/indexing.html#indexing-view-versus-copy\n",
      "  \n",
      "/home/elkayvee/anaconda3/lib/python3.6/site-packages/ipykernel_launcher.py:3: SettingWithCopyWarning: \n",
      "A value is trying to be set on a copy of a slice from a DataFrame\n",
      "\n",
      "See the caveats in the documentation: http://pandas.pydata.org/pandas-docs/stable/indexing.html#indexing-view-versus-copy\n",
      "  This is separate from the ipykernel package so we can avoid doing imports until\n",
      "/home/elkayvee/anaconda3/lib/python3.6/site-packages/ipykernel_launcher.py:4: SettingWithCopyWarning: \n",
      "A value is trying to be set on a copy of a slice from a DataFrame.\n",
      "Try using .loc[row_indexer,col_indexer] = value instead\n",
      "\n",
      "See the caveats in the documentation: http://pandas.pydata.org/pandas-docs/stable/indexing.html#indexing-view-versus-copy\n",
      "  after removing the cwd from sys.path.\n"
     ]
    },
    {
     "data": {
      "text/html": [
       "<div>\n",
       "<style>\n",
       "    .dataframe thead tr:only-child th {\n",
       "        text-align: right;\n",
       "    }\n",
       "\n",
       "    .dataframe thead th {\n",
       "        text-align: left;\n",
       "    }\n",
       "\n",
       "    .dataframe tbody tr th {\n",
       "        vertical-align: top;\n",
       "    }\n",
       "</style>\n",
       "<table border=\"1\" class=\"dataframe\">\n",
       "  <thead>\n",
       "    <tr style=\"text-align: right;\">\n",
       "      <th></th>\n",
       "      <th>reviewerID</th>\n",
       "      <th>asin</th>\n",
       "      <th>overall</th>\n",
       "      <th>date</th>\n",
       "      <th>dayOfweek</th>\n",
       "    </tr>\n",
       "  </thead>\n",
       "  <tbody>\n",
       "    <tr>\n",
       "      <th>3434</th>\n",
       "      <td>A1X2LENOF84LCQ</td>\n",
       "      <td>B0000ZEPGA</td>\n",
       "      <td>5.0</td>\n",
       "      <td>2003-03-29</td>\n",
       "      <td>Saturday</td>\n",
       "    </tr>\n",
       "    <tr>\n",
       "      <th>145</th>\n",
       "      <td>A1GPGBHBI6T2HJ</td>\n",
       "      <td>B000051SEP</td>\n",
       "      <td>5.0</td>\n",
       "      <td>2003-12-12</td>\n",
       "      <td>Friday</td>\n",
       "    </tr>\n",
       "    <tr>\n",
       "      <th>13199</th>\n",
       "      <td>A1Z54EM24Y40LL</td>\n",
       "      <td>B0007YXUS8</td>\n",
       "      <td>5.0</td>\n",
       "      <td>2004-07-17</td>\n",
       "      <td>Saturday</td>\n",
       "    </tr>\n",
       "    <tr>\n",
       "      <th>2017</th>\n",
       "      <td>A2K3J2X8KDY47N</td>\n",
       "      <td>B0000B35EL</td>\n",
       "      <td>2.0</td>\n",
       "      <td>2004-09-24</td>\n",
       "      <td>Friday</td>\n",
       "    </tr>\n",
       "    <tr>\n",
       "      <th>1963</th>\n",
       "      <td>AB2YZA2HLY75H</td>\n",
       "      <td>B0000B35D9</td>\n",
       "      <td>5.0</td>\n",
       "      <td>2004-09-29</td>\n",
       "      <td>Wednesday</td>\n",
       "    </tr>\n",
       "  </tbody>\n",
       "</table>\n",
       "</div>"
      ],
      "text/plain": [
       "           reviewerID        asin  overall       date  dayOfweek\n",
       "3434   A1X2LENOF84LCQ  B0000ZEPGA      5.0 2003-03-29   Saturday\n",
       "145    A1GPGBHBI6T2HJ  B000051SEP      5.0 2003-12-12     Friday\n",
       "13199  A1Z54EM24Y40LL  B0007YXUS8      5.0 2004-07-17   Saturday\n",
       "2017   A2K3J2X8KDY47N  B0000B35EL      2.0 2004-09-24     Friday\n",
       "1963    AB2YZA2HLY75H  B0000B35D9      5.0 2004-09-29  Wednesday"
      ]
     },
     "execution_count": 5,
     "metadata": {},
     "output_type": "execute_result"
    }
   ],
   "source": [
    "df_fd = fd[['reviewerID', 'asin','overall']]\n",
    "df_fd['date'] = pd.to_datetime(fd['reviewTime'])\n",
    "df_fd.sort_values(by = 'date', inplace = True)\n",
    "df_fd[\"dayOfweek\"] = df_fd.date.dt.weekday_name\n",
    "df_fd.head(5)"
   ]
  },
  {
   "cell_type": "markdown",
   "metadata": {},
   "source": [
    "### EDA"
   ]
  },
  {
   "cell_type": "code",
   "execution_count": 6,
   "metadata": {},
   "outputs": [
    {
     "data": {
      "text/html": [
       "<div>\n",
       "<style>\n",
       "    .dataframe thead tr:only-child th {\n",
       "        text-align: right;\n",
       "    }\n",
       "\n",
       "    .dataframe thead th {\n",
       "        text-align: left;\n",
       "    }\n",
       "\n",
       "    .dataframe tbody tr th {\n",
       "        vertical-align: top;\n",
       "    }\n",
       "</style>\n",
       "<table border=\"1\" class=\"dataframe\">\n",
       "  <thead>\n",
       "    <tr style=\"text-align: right;\">\n",
       "      <th></th>\n",
       "      <th>overall</th>\n",
       "    </tr>\n",
       "  </thead>\n",
       "  <tbody>\n",
       "    <tr>\n",
       "      <th>count</th>\n",
       "      <td>278677.000000</td>\n",
       "    </tr>\n",
       "    <tr>\n",
       "      <th>mean</th>\n",
       "      <td>4.245133</td>\n",
       "    </tr>\n",
       "    <tr>\n",
       "      <th>std</th>\n",
       "      <td>1.103747</td>\n",
       "    </tr>\n",
       "    <tr>\n",
       "      <th>min</th>\n",
       "      <td>1.000000</td>\n",
       "    </tr>\n",
       "    <tr>\n",
       "      <th>25%</th>\n",
       "      <td>4.000000</td>\n",
       "    </tr>\n",
       "    <tr>\n",
       "      <th>50%</th>\n",
       "      <td>5.000000</td>\n",
       "    </tr>\n",
       "    <tr>\n",
       "      <th>75%</th>\n",
       "      <td>5.000000</td>\n",
       "    </tr>\n",
       "    <tr>\n",
       "      <th>max</th>\n",
       "      <td>5.000000</td>\n",
       "    </tr>\n",
       "  </tbody>\n",
       "</table>\n",
       "</div>"
      ],
      "text/plain": [
       "             overall\n",
       "count  278677.000000\n",
       "mean        4.245133\n",
       "std         1.103747\n",
       "min         1.000000\n",
       "25%         4.000000\n",
       "50%         5.000000\n",
       "75%         5.000000\n",
       "max         5.000000"
      ]
     },
     "execution_count": 6,
     "metadata": {},
     "output_type": "execute_result"
    }
   ],
   "source": [
    "df_fd.describe()"
   ]
  },
  {
   "cell_type": "code",
   "execution_count": 7,
   "metadata": {},
   "outputs": [
    {
     "name": "stdout",
     "output_type": "stream",
     "text": [
      "Number of NaN values: \n",
      "reviewerID    0\n",
      "asin          0\n",
      "overall       0\n",
      "date          0\n",
      "dayOfweek     0\n",
      "dtype: int64\n"
     ]
    }
   ],
   "source": [
    "print(\"Number of NaN values: \\n\"+str(df_fd.isnull().sum()))"
   ]
  },
  {
   "cell_type": "code",
   "execution_count": 8,
   "metadata": {},
   "outputs": [
    {
     "name": "stdout",
     "output_type": "stream",
     "text": [
      "Number of duplicate rows: 0\n"
     ]
    }
   ],
   "source": [
    "duplicates = df_fd.duplicated(['reviewerID', 'asin','overall'])\n",
    "print(\"Number of duplicate rows: \"+str(duplicates.sum()))"
   ]
  },
  {
   "cell_type": "code",
   "execution_count": 9,
   "metadata": {},
   "outputs": [
    {
     "name": "stdout",
     "output_type": "stream",
     "text": [
      "Clothing, Shoes & Jewelry review data:\n",
      "Number of product ratings = 278677\n",
      "Number of unique users = 39387\n",
      "Number of unique products = 23033\n"
     ]
    }
   ],
   "source": [
    "print(\"Clothing, Shoes & Jewelry review data:\")\n",
    "print(\"Number of product ratings = \"+str(df_fd.shape[0]))\n",
    "print(\"Number of unique users = \"+str(len(np.unique(df_fd['reviewerID']))))\n",
    "print(\"Number of unique products = \"+str(len(np.unique(df_fd['asin']))))"
   ]
  },
  {
   "cell_type": "code",
   "execution_count": 10,
   "metadata": {},
   "outputs": [
    {
     "data": {
      "image/png": "[encoded data removed]",
      "text/plain": [
       "<matplotlib.figure.Figure at 0x7f97c4188048>"
      ]
     },
     "metadata": {
      "needs_background": "light"
     },
     "output_type": "display_data"
    }
   ],
   "source": [
    "no_of_reviews_per_product = df_fd.groupby(by = 'asin')['overall'].count().sort_values(ascending = False)\n",
    "\n",
    "no_of_reviews_per_user = df_fd.groupby(by = 'reviewerID')['overall'].count().sort_values(ascending = False)\n",
    "\n",
    "plt.figure(figsize = (12, 8))\n",
    "ax = sns.countplot(x=\"overall\", data=df_fd)\n",
    "\n",
    "ax.set_yticklabels([str(num/10**6) + \"M\" for num in ax.get_yticks()])\n",
    "\n",
    "plt.tick_params(labelsize = 10)\n",
    "plt.title(\"Clothing, Shoes and Jewelry reviews ratings distribution\", fontsize = 12)\n",
    "plt.xlabel(\"ratings\", fontsize = 12)\n",
    "plt.ylabel(\"number of ratings(Millions)\", fontsize = 12)\n",
    "plt.show()"
   ]
  },
  {
   "cell_type": "code",
   "execution_count": 11,
   "metadata": {},
   "outputs": [
    {
     "data": {
      "image/png": "[encoded data removed]",
      "text/plain": [
       "<matplotlib.figure.Figure at 0x7f97ba8c4f98>"
      ]
     },
     "metadata": {
      "needs_background": "light"
     },
     "output_type": "display_data"
    }
   ],
   "source": [
    "fig = plt.figure(figsize = (12, 6))\n",
    "axes = fig.add_axes([0.1,0.1,1,1])\n",
    "plt.title(\"number of reviews per product\", fontsize = 12)\n",
    "plt.xlabel(\"product\", fontsize = 12)\n",
    "plt.ylabel(\"count of reviews\", fontsize = 12)\n",
    "plt.plot(no_of_reviews_per_product.values)\n",
    "plt.tick_params(labelsize = 10)\n",
    "axes.set_xticklabels([])\n",
    "plt.show()"
   ]
  },
  {
   "cell_type": "markdown",
   "metadata": {},
   "source": [
    "It is very skewed\n",
    "\n",
    "It clearly shows that there are some products that are very popular and were rated by many users as comapared to others."
   ]
  },
  {
   "cell_type": "code",
   "execution_count": 12,
   "metadata": {},
   "outputs": [
    {
     "data": {
      "image/png": "[encoded data removed]",
      "text/plain": [
       "<matplotlib.figure.Figure at 0x7f97b3698470>"
      ]
     },
     "metadata": {
      "needs_background": "light"
     },
     "output_type": "display_data"
    }
   ],
   "source": [
    "fig = plt.figure(figsize = (12, 6))\n",
    "axes = fig.add_axes([0.1,0.1,1,1])\n",
    "plt.title(\"number of reviews per user\", fontsize = 12)\n",
    "plt.xlabel(\"user\", fontsize = 12)\n",
    "plt.ylabel(\"count of reviews\", fontsize = 12)\n",
    "plt.plot(no_of_reviews_per_user.values)\n",
    "plt.tick_params(labelsize = 10)\n",
    "axes.set_xticklabels([])\n",
    "plt.show()"
   ]
  },
  {
   "cell_type": "code",
   "execution_count": 13,
   "metadata": {},
   "outputs": [
    {
     "data": {
      "image/png": "[encoded data removed]",
      "text/plain": [
       "<matplotlib.figure.Figure at 0x7f97b840de10>"
      ]
     },
     "metadata": {
      "needs_background": "light"
     },
     "output_type": "display_data"
    }
   ],
   "source": [
    "fig = plt.figure(figsize = (12, 8))\n",
    "\n",
    "axes = sns.countplot(x = \"dayOfweek\", data = df_fd)\n",
    "axes.set_title(\"day of week VS number of ratings\", fontsize = 12)\n",
    "axes.set_xlabel(\"day of week\", fontsize = 12)\n",
    "axes.set_ylabel(\"number of ratings\", fontsize = 12)\n",
    "ax.set_yticklabels([str(num/10**6) + \"M\" for num in ax.get_yticks()])\n",
    "axes.tick_params(labelsize = 10)\n",
    "\n",
    "plt.show()"
   ]
  },
  {
   "cell_type": "code",
   "execution_count": 14,
   "metadata": {},
   "outputs": [
    {
     "data": {
      "image/png": "[encoded data removed]",
      "text/plain": [
       "<matplotlib.figure.Figure at 0x7f97b67e0b38>"
      ]
     },
     "metadata": {
      "needs_background": "light"
     },
     "output_type": "display_data"
    }
   ],
   "source": [
    "fig = plt.figure(figsize = (12, 8))\n",
    "\n",
    "axes = sns.boxplot(x = \"dayOfweek\", y = \"overall\", data = df_fd)\n",
    "axes.set_title(\"day of week VS number of ratings\", fontsize = 12)\n",
    "axes.set_xlabel(\"day of week\", fontsize = 12)\n",
    "axes.set_ylabel(\"number of ratings\", fontsize = 12)\n",
    "axes.tick_params(labelsize = 10)\n",
    "\n",
    "plt.show()"
   ]
  },
  {
   "cell_type": "code",
   "execution_count": 15,
   "metadata": {},
   "outputs": [
    {
     "data": {
      "image/png": "[encoded data removed]",
      "text/plain": [
       "<matplotlib.figure.Figure at 0x7f97bbe16a90>"
      ]
     },
     "metadata": {
      "needs_background": "light"
     },
     "output_type": "display_data"
    }
   ],
   "source": [
    "plt.figure(figsize = (10,8))\n",
    "\n",
    "ax = df_fd.groupby(by = 'date')['overall'].count().plot()\n",
    "ax.set_title(\"Number of ratings by day\", fontsize = 12)\n",
    "ax.set_xlabel(\"date\", fontsize = 12)\n",
    "ax.set_ylabel(\"Number of ratings per day\", fontsize = 12)\n",
    "plt.tick_params(labelsize = 10)\n",
    "plt.show()"
   ]
  },
  {
   "cell_type": "code",
   "execution_count": 16,
   "metadata": {},
   "outputs": [
    {
     "data": {
      "image/png": "[encoded data removed]",
      "text/plain": [
       "<matplotlib.figure.Figure at 0x7f97c3969780>"
      ]
     },
     "metadata": {
      "needs_background": "light"
     },
     "output_type": "display_data"
    }
   ],
   "source": [
    "plt.figure(figsize = (10,8))\n",
    "ax = df_fd.resample(\"M\", on = \"date\")[\"overall\"].count().plot()\n",
    "ax.set_yticklabels([str(num/10**6) + \"M\" for num in ax.get_yticks()])\n",
    "ax.set_title(\"Number of ratings per month\", fontsize = 12)\n",
    "ax.set_xlabel(\"date\", fontsize = 12)\n",
    "ax.set_ylabel(\"Number of ratings per month (millions)\", fontsize = 12)\n",
    "plt.tick_params(labelsize = 10)\n",
    "plt.show()"
   ]
  },
  {
   "cell_type": "code",
   "execution_count": 17,
   "metadata": {},
   "outputs": [],
   "source": [
    "# no_of_reviews_per_product = df_fd.groupby(by = 'asin')['overall'].count().sort_values(ascending = False)\n",
    "\n",
    "# no_of_reviews_per_user = df_fd.groupby(by = 'reviewerID')['overall'].count().sort_values(ascending = False)\n",
    "\n",
    "# no_of_rated_products_per_user = df_fd.groupby(by = \"reviewerID\")[\"overall\"].count().sort_values(ascending = False)\n",
    "# no_of_rated_products_per_user.head()"
   ]
  },
  {
   "cell_type": "code",
   "execution_count": 18,
   "metadata": {},
   "outputs": [
    {
     "name": "stderr",
     "output_type": "stream",
     "text": [
      "/home/elkayvee/anaconda3/lib/python3.6/site-packages/scipy/stats/stats.py:1633: FutureWarning: Using a non-tuple sequence for multidimensional indexing is deprecated; use `arr[tuple(seq)]` instead of `arr[seq]`. In the future this will be interpreted as an array index, `arr[np.array(seq)]`, which will result either in an error or a different result.\n",
      "  return np.add.reduce(sorted[indexer] * weights, axis=axis) / sumval\n"
     ]
    },
    {
     "data": {
      "image/png": "[encoded data removed]",
      "text/plain": [
       "<matplotlib.figure.Figure at 0x7f97ba8c4c18>"
      ]
     },
     "metadata": {
      "needs_background": "light"
     },
     "output_type": "display_data"
    }
   ],
   "source": [
    "fig, axes = plt.subplots(nrows = 1, ncols = 2, figsize=(12,6))\n",
    "\n",
    "sns.kdeplot(no_of_reviews_per_user.values, shade = True, ax = axes[0])\n",
    "axes[0].set_title(\"PDF\", fontsize = 12)\n",
    "axes[0].set_xlabel(\"Number of reviews by user\", fontsize = 12)\n",
    "axes[0].tick_params(labelsize = 10)\n",
    "\n",
    "sns.kdeplot(no_of_reviews_per_user.values, shade = True, cumulative = True, ax = axes[1])\n",
    "axes[1].set_title(\"CDF\", fontsize = 12)\n",
    "axes[1].set_xlabel(\"Number of reviews by user\", fontsize = 12)\n",
    "axes[1].tick_params(labelsize = 10)\n",
    "\n",
    "fig.subplots_adjust(wspace=2)\n",
    "plt.tight_layout()\n",
    "plt.show()\n"
   ]
  },
  {
   "cell_type": "markdown",
   "metadata": {},
   "source": [
    "As expected, above PDF graph shows that almost all of the users give very few ratings. \n",
    "There are very few users who's ratings count is high.\n",
    "\n",
    "Similarly, above CDF graph shows that almost 99% of users give very few ratings."
   ]
  },
  {
   "cell_type": "code",
   "execution_count": 19,
   "metadata": {},
   "outputs": [],
   "source": [
    "quantiles = no_of_reviews_per_user.quantile(np.arange(0,1.01,0.01))"
   ]
  },
  {
   "cell_type": "code",
   "execution_count": 20,
   "metadata": {},
   "outputs": [
    {
     "data": {
      "image/png": "[encoded data removed]",
      "text/plain": [
       "<matplotlib.figure.Figure at 0x7f97bcbf2978>"
      ]
     },
     "metadata": {
      "needs_background": "light"
     },
     "output_type": "display_data"
    }
   ],
   "source": [
    "fig = plt.figure(figsize = (10, 6))\n",
    "\n",
    "axes = fig.add_axes([0.1,0.1,1,1])\n",
    "axes.set_title(\"Quantile values of ratings per user\", fontsize = 12)\n",
    "axes.set_xlabel(\"Quantiles\", fontsize = 12)\n",
    "axes.set_ylabel(\"Ratings per user\", fontsize = 12)\n",
    "axes.plot(quantiles)\n",
    "\n",
    "plt.scatter(x = quantiles.index[::5],  y = quantiles.values[::5],  c = \"blue\", s = 70, label=\"quantiles with 0.05 intervals\")\n",
    "plt.scatter(x = quantiles.index[::25], y = quantiles.values[::25], c = \"red\",  s = 70, label=\"quantiles with 0.25 intervals\")\n",
    "plt.legend(loc='upper left', fontsize = 12)\n",
    "    \n",
    "axes.tick_params(labelsize = 10)"
   ]
  },
  {
   "cell_type": "code",
   "execution_count": 21,
   "metadata": {},
   "outputs": [
    {
     "name": "stdout",
     "output_type": "stream",
     "text": [
      "time taken to create ratings matrix = 100.82784461975098\n"
     ]
    }
   ],
   "source": [
    "start = time.time()\n",
    "rp = df_fd.pivot_table(columns=['asin'],index=['reviewerID'],values='overall')\n",
    "rp = rp.fillna(0)\n",
    "print(\"time taken to create ratings matrix =\", np.round((time.time() - start),2))"
   ]
  },
  {
   "cell_type": "markdown",
   "metadata": {},
   "source": [
    "### Calculation of **Sparsity**"
   ]
  },
  {
   "cell_type": "code",
   "execution_count": 22,
   "metadata": {},
   "outputs": [
    {
     "name": "stdout",
     "output_type": "stream",
     "text": [
      "sparsity of ratings matrix for users/items:\n"
     ]
    },
    {
     "data": {
      "text/plain": [
       "99.969"
      ]
     },
     "execution_count": 22,
     "metadata": {},
     "output_type": "execute_result"
    }
   ],
   "source": [
    "matrix_size = rp.shape[0]*rp.shape[1] # Number of possible interactions in the matrix\n",
    "num_ratings = len(np.nonzero(rp.as_matrix())[0]) # Number of items interacted with\n",
    "sparsity = 100*(1 - (num_ratings/matrix_size))\n",
    "print(\"sparsity of ratings matrix for users/items:\")\n",
    "np.round(sparsity,3)"
   ]
  },
  {
   "cell_type": "code",
   "execution_count": 23,
   "metadata": {},
   "outputs": [],
   "source": [
    "rp_ = rp.as_matrix()"
   ]
  },
  {
   "cell_type": "code",
   "execution_count": 24,
   "metadata": {},
   "outputs": [
    {
     "name": "stdout",
     "output_type": "stream",
     "text": [
      "Creating USER_ITEM sparse matrix for review data\n",
      "We are creating sparse data\n",
      "Creation done. Shape of sparse matrix = (39387, 23033)\n",
      "Saving it into disk for furthur usage.\n",
      "Done\n",
      "\n",
      "0.3930947780609131\n"
     ]
    }
   ],
   "source": [
    "# Only get users/items where ratings totals were positive\n",
    "users = list(np.sort(df_fd.reviewerID.unique())) # Get our unique reviewers\n",
    "items = list(np.sort(df_fd.asin.unique()))# Get our unique items that were purchased\n",
    "ratings = list(df_fd.overall) # All of our ratings\n",
    "\n",
    "# Get the associated row indices\n",
    "rows = df_fd.reviewerID.astype('category', categories = users).cat.codes \n",
    "\n",
    "# Get the associated column indices\n",
    "cols = df_fd.asin.astype('category', categories = items).cat.codes \n",
    "\n",
    "startTime = time.time()\n",
    "print(\"Creating USER_ITEM sparse matrix for review data\")\n",
    "if os.path.isfile(\"rp_.npz\"):\n",
    "    print(\"Sparse data is already present in your disk, no need to create further. Loading Sparse Matrix\")\n",
    "    rp_ = sparse.load_npz(\"rp_.npz\")\n",
    "    print(\"Shape of review ratings Sparse matrix = \"+str(rp_.shape))\n",
    "    \n",
    "else:\n",
    "    print(\"We are creating sparse data\")\n",
    "    rp_ = sparse.csr_matrix((ratings, (rows, cols)), shape=(len(users), len(items)))\n",
    "    print(\"Creation done. Shape of sparse matrix = \"+str(rp_.shape))\n",
    "    print(\"Saving it into disk for furthur usage.\")\n",
    "    sparse.save_npz(\"rp_.npz\", rp_)\n",
    "    print(\"Done\\n\")\n",
    "\n",
    "print(np.round((time.time() - startTime),2))"
   ]
  },
  {
   "cell_type": "markdown",
   "metadata": {},
   "source": [
    "#### Computing Similarity Matrices\n",
    "**_User-User_** similarity matrix for **_all_** users"
   ]
  },
  {
   "cell_type": "code",
   "execution_count": 25,
   "metadata": {},
   "outputs": [],
   "source": [
    "#Here, we are calculating user-user similarity matrix only for first 100 users in our sparse matrix. And we are calculating \n",
    "#top 100 most similar users with them.\n",
    "def User_UserSimilarity(sparseMatrix, top = 100):\n",
    "    starttime = time.time()  \n",
    "    \n",
    "    row_index, col_index = sparseMatrix.nonzero()  #indices of rows in \"row_index\" and \n",
    "                                                   #indices of columns in \"col_index\" where a non-zero value exists\n",
    "    rows = np.unique(row_index)\n",
    "\n",
    "    similarMatrix = np.zeros((row_index[-1] + 1)*top).reshape((row_index[-1] + 1),top) # row_index*top. As we are building \n",
    "                                                                                       # similarity matrix only for top most\n",
    "                                                                                       # similar users.\n",
    "    timeTaken = []\n",
    "    users = 0\n",
    "    \n",
    "    for row in rows[:top]:\n",
    "        users += 1\n",
    "        startTime = time.time()  #it will give seconds elapsed\n",
    "        sim = cosine_similarity(sparseMatrix.getrow(row), sparseMatrix).ravel()\n",
    "        top_similar_indices = sim.argsort()[-top:]\n",
    "        top_similar = sim[top_similar_indices]\n",
    "        similarMatrix[row] = top_similar\n",
    "        timeTaken.append(time.time() - startTime)\n",
    "        \n",
    "    print(\"average time taken to compute similarity matrix for 1 user = \"+\n",
    "          str(np.round(sum(timeTaken)/len(timeTaken)),2)+\" seconds\")\n",
    "    \n",
    "    avgTimeTaken = sum(timeTaken)/len(timeTaken)\n",
    "    fig = plt.figure(figsize = (12,8))\n",
    "    plt.plot(timeTaken, label = 'Time taken per user')\n",
    "    plt.plot(np.cumsum(timeTaken), label='Time taken - all users')\n",
    "    plt.legend(loc='upper left', fontsize = 12)\n",
    "    plt.xlabel('Users', fontsize = 12)\n",
    "    plt.ylabel('time(seconds)', fontsize = 12)\n",
    "    plt.tick_params(labelsize = 10)\n",
    "    plt.show()\n",
    "    \n",
    "    return similarMatrix, avgTimeTaken"
   ]
  },
  {
   "cell_type": "code",
   "execution_count": 26,
   "metadata": {},
   "outputs": [
    {
     "name": "stdout",
     "output_type": "stream",
     "text": [
      "average time taken to compute similarity matrix for 1 user = 0.006926521953614047 seconds\n"
     ]
    },
    {
     "data": {
      "image/png": "[encoded data removed]",
      "text/plain": [
       "<matplotlib.figure.Figure at 0x7f97bff8b978>"
      ]
     },
     "metadata": {
      "needs_background": "light"
     },
     "output_type": "display_data"
    },
    {
     "name": "stdout",
     "output_type": "stream",
     "text": [
      "time taken for calculating the similarity matrix for all the users: 273.1226463317871\n"
     ]
    }
   ],
   "source": [
    "start_time = time.time()\n",
    "simMatrix, avgTimeTaken = User_UserSimilarity(rp_, rp_.shape[0])\n",
    "print(\"time taken for calculating the similarity matrix for all the users:\", np.round((time.time() - start_time),2))"
   ]
  },
  {
   "cell_type": "code",
   "execution_count": 27,
   "metadata": {},
   "outputs": [
    {
     "name": "stdout",
     "output_type": "stream",
     "text": [
      "total time it would take for similiarity matrix calculation for 39387 users in the data, would be 0.19 days.\n"
     ]
    }
   ],
   "source": [
    "print(\"total time it would take for similiarity matrix calculation for {} users in the data, would be {} days.\".format(rp_.shape[0],np.round((rp_.shape[0]*avgTimeTaken)/(24*60), 2)))"
   ]
  },
  {
   "cell_type": "markdown",
   "metadata": {},
   "source": [
    "#### Computing Similarity Matrices\n",
    "**_Item-Item_** similarity matrix for **_all_** items"
   ]
  },
  {
   "cell_type": "code",
   "execution_count": 28,
   "metadata": {},
   "outputs": [],
   "source": [
    "#Here, we are calculating user-user similarity matrix only for first 100 users in our sparse matrix. And we are calculating \n",
    "#top 100 most similar users with them.\n",
    "def Item_ItemSimilarity(sparseMatrix, top = 100):\n",
    "    starttime = time.time()  \n",
    "    \n",
    "    row_index, col_index = sparseMatrix.nonzero()  #indices of rows in \"row_index\" and \n",
    "                                                   #indices of columns in \"col_index\" where a non-zero value exists\n",
    "    rows = np.unique(row_index)\n",
    "\n",
    "    similarItemsMatrix = np.zeros((row_index[-1] + 1)*top).reshape((row_index[-1] + 1),top) # row_index*top. As we are building \n",
    "                                                                                       # similarity matrix only for top most\n",
    "                                                                                       # similar users.\n",
    "    ItemtimeTaken = []\n",
    "    items = 0\n",
    "    \n",
    "    for row in rows[:top]:\n",
    "        items += 1\n",
    "        startItemTime = time.time()  #it will give seconds elapsed\n",
    "        sim_items = cosine_similarity(sparseMatrix.getrow(row), sparseMatrix).ravel()\n",
    "        top_similar_item_indices = sim_items.argsort()[-top:]\n",
    "        top_similar_items = sim_items[top_similar_item_indices]\n",
    "        similarItemsMatrix[row] = top_similar_items\n",
    "        ItemtimeTaken.append(time.time() - startItemTime)\n",
    "        \n",
    "    print(\"average time taken to compute similarity matrix for 1 item = \"+\n",
    "          str(np.round(sum(ItemtimeTaken)/len(ItemtimeTaken)),2)+\" seconds\")\n",
    "    \n",
    "    avgItemTimeTaken = sum(ItemtimeTaken)/len(ItemtimeTaken)\n",
    "    fig = plt.figure(figsize = (12,8))\n",
    "    plt.plot(ItemtimeTaken, label = 'Time taken per item')\n",
    "    plt.plot(np.cumsum(ItemtimeTaken), label='Time taken - all items')\n",
    "    plt.legend(loc='upper left', fontsize = 12)\n",
    "    plt.xlabel('Items', fontsize = 12)\n",
    "    plt.ylabel('time(seconds)', fontsize = 12)\n",
    "    plt.tick_params(labelsize = 10)\n",
    "    plt.show()\n",
    "    \n",
    "    return similarItemsMatrix, avgItemTimeTaken"
   ]
  },
  {
   "cell_type": "code",
   "execution_count": 29,
   "metadata": {},
   "outputs": [
    {
     "name": "stdout",
     "output_type": "stream",
     "text": [
      "average time taken to compute similarity matrix for 1 item = 0.013383837377223356 seconds\n"
     ]
    },
    {
     "data": {
      "image/png": "[encoded data removed]",
      "text/plain": [
       "<matplotlib.figure.Figure at 0x7f97b76f5588>"
      ]
     },
     "metadata": {
      "needs_background": "light"
     },
     "output_type": "display_data"
    },
    {
     "name": "stdout",
     "output_type": "stream",
     "text": [
      "time taken for calculating the similarity matrix for all the items: 308.555881023407\n"
     ]
    }
   ],
   "source": [
    "start_time = time.time()\n",
    "simItemsMatrix, avgItemTimeTaken = Item_ItemSimilarity(rp_.T, rp_.shape[1])\n",
    "print(\"time taken for calculating the similarity matrix for all the items:\", np.round((time.time() - start),2))"
   ]
  },
  {
   "cell_type": "code",
   "execution_count": 30,
   "metadata": {},
   "outputs": [
    {
     "name": "stdout",
     "output_type": "stream",
     "text": [
      "total time it would take for similiarity matrix calculation for 23033 users in the data, would be 0.21 days.\n"
     ]
    }
   ],
   "source": [
    "print(\"total time it would take for similiarity matrix calculation for {} users in the data, would be {} days.\".format(rp_.shape[1],np.round((rp_.shape[1]*avgItemTimeTaken)/(24*60), 2)))"
   ]
  },
  {
   "cell_type": "code",
   "execution_count": 36,
   "metadata": {},
   "outputs": [],
   "source": [
    "def make_train(ratings, pct_test = 0.2):\n",
    "    '''\n",
    "    This function will take in the original user-item matrix and \"mask\" a percentage of the original ratings where a\n",
    "    user-item interaction has taken place for use as a test set. The test set will contain all of the original ratings, \n",
    "    while the training set replaces the specified percentage of them with a zero in the original ratings matrix. \n",
    "    \n",
    "    parameters: \n",
    "    \n",
    "    ratings - the original ratings matrix from which you want to generate a train/test set. Test is just a complete\n",
    "    copy of the original set. This is in the form of a sparse csr_matrix. \n",
    "    \n",
    "    pct_test - The percentage of user-item interactions where an interaction took place that you want to mask in the \n",
    "    training set for later comparison to the test set, which contains all of the original ratings. \n",
    "    \n",
    "    returns:\n",
    "    \n",
    "    training_set - The altered version of the original data with a certain percentage of the user-item pairs \n",
    "    that originally had interaction set back to zero.\n",
    "    \n",
    "    test_set - A copy of the original ratings matrix, unaltered, so it can be used to see how the rank order \n",
    "    compares with the actual interactions.\n",
    "    \n",
    "    user_inds - From the randomly selected user-item indices, which user rows were altered in the training data.\n",
    "    This will be necessary later when evaluating the performance via AUC.\n",
    "    '''\n",
    "    test_set = ratings.copy() # Make a copy of the original set to be the test set. \n",
    "    test_set[test_set != 0] = 1 # Store the test set as a binary preference matrix\n",
    "    training_set = ratings.copy() # Make a copy of the original data we can alter as our training set. \n",
    "    nonzero_inds = training_set.nonzero() # Find the indices in the ratings data where an interaction exists\n",
    "    nonzero_pairs = list(zip(nonzero_inds[0], nonzero_inds[1])) # Zip these pairs together of user,item index into list\n",
    "    random.seed(0) # Set the random seed to zero for reproducibility\n",
    "    num_samples = int(np.ceil(pct_test*len(nonzero_pairs))) # Round the number of samples needed to the nearest integer\n",
    "    samples = random.sample(nonzero_pairs, num_samples) # Sample a random number of user-item pairs without replacement\n",
    "    user_inds = [index[0] for index in samples] # Get the user row indices\n",
    "    item_inds = [index[1] for index in samples] # Get the item column indices\n",
    "    training_set[user_inds, item_inds] = 0 # Assign all of the randomly chosen user-item pairs to zero\n",
    "    training_set.eliminate_zeros() # Get rid of zeros in sparse array storage after update to save space\n",
    "    return training_set, test_set, list(set(user_inds)) # Output the unique list of user rows that were altered  "
   ]
  },
  {
   "cell_type": "code",
   "execution_count": 37,
   "metadata": {},
   "outputs": [],
   "source": [
    "product_train, product_test, product_users_altered = make_train(rp_, pct_test = 0.2)"
   ]
  },
  {
   "cell_type": "code",
   "execution_count": 38,
   "metadata": {},
   "outputs": [],
   "source": [
    "def implicit_weighted_ALS(training_set, lambda_val = 0.1, alpha = 40, iterations = 10, rank_size = 20, seed = 0):\n",
    "    '''\n",
    "    Implicit weighted ALS taken from Hu, Koren, and Volinsky 2008. Designed for alternating least squares and implicit\n",
    "    feedback based collaborative filtering. \n",
    "    \n",
    "    parameters:\n",
    "    \n",
    "    training_set - Our matrix of ratings with shape m x n, where m is the number of users and n is the number of items.\n",
    "    Should be a sparse csr matrix to save space. \n",
    "    \n",
    "    lambda_val - Used for regularization during alternating least squares. Increasing this value may increase bias\n",
    "    but decrease variance. Default is 0.1. \n",
    "    \n",
    "    alpha - The parameter associated with the confidence matrix discussed in the paper, where Cui = 1 + alpha*Rui. \n",
    "    The paper found a default of 40 most effective. Decreasing this will decrease the variability in confidence between\n",
    "    various ratings.\n",
    "    \n",
    "    iterations - The number of times to alternate between both user feature vector and item feature vector in\n",
    "    alternating least squares. More iterations will allow better convergence at the cost of increased computation. \n",
    "    The authors found 10 iterations was sufficient, but more may be required to converge. \n",
    "    \n",
    "    rank_size - The number of latent features in the user/item feature vectors. The paper recommends varying this \n",
    "    between 20-200. Increasing the number of features may overfit but could reduce bias. \n",
    "    \n",
    "    seed - Set the seed for reproducible results\n",
    "    \n",
    "    returns:\n",
    "    \n",
    "    The feature vectors for users and items. The dot product of these feature vectors should give you the expected \n",
    "    \"rating\" at each point in your original matrix. \n",
    "    '''\n",
    "    \n",
    "    # first set up our confidence matrix\n",
    "    \n",
    "    conf = (alpha*training_set) # To allow the matrix to stay sparse, I will add one later when each row is taken \n",
    "                                # and converted to dense. \n",
    "    num_user = conf.shape[0]\n",
    "    num_item = conf.shape[1] # Get the size of our original ratings matrix, m x n\n",
    "    \n",
    "    # initialize our X/Y feature vectors randomly with a set seed\n",
    "    rstate = np.random.RandomState(seed)\n",
    "    \n",
    "    X = sparse.csr_matrix(rstate.normal(size = (num_user, rank_size))) # Random numbers in a m x rank shape\n",
    "    Y = sparse.csr_matrix(rstate.normal(size = (num_item, rank_size))) # Normally this would be rank x n but we can \n",
    "                                                                 # transpose at the end. Makes calculation more simple.\n",
    "    X_eye = sparse.eye(num_user)\n",
    "    Y_eye = sparse.eye(num_item)\n",
    "    lambda_eye = lambda_val * sparse.eye(rank_size) # Our regularization term lambda*I. \n",
    "    \n",
    "    # We can compute this before iteration starts. \n",
    "    \n",
    "    # Begin iterations\n",
    "    print(\"Begin iteration\")\n",
    "    for iter_step in range(iterations): # Iterate back and forth between solving X given fixed Y and vice versa\n",
    "        # Compute yTy and xTx at beginning of each iteration to save computing time\n",
    "        yTy = Y.T.dot(Y)\n",
    "        xTx = X.T.dot(X)\n",
    "        # Being iteration to solve for X based on fixed Y\n",
    "        print(\"Begin iteration =\", iter_step)\n",
    "        print(\"Begin user\")\n",
    "        \n",
    "        for u in range(num_user):\n",
    "            conf_samp = conf[u,:].toarray() # Grab user row from confidence matrix and convert to dense\n",
    "            pref = conf_samp.copy() \n",
    "            pref[pref != 0] = 1 # Create binarized preference vector \n",
    "            CuI = sparse.diags(conf_samp, [0]) # Get Cu - I term, don't need to subtract 1 since we never added it \n",
    "            yTCuIY = Y.T.dot(CuI).dot(Y) # This is the yT(Cu-I)Y term \n",
    "            yTCupu = Y.T.dot(CuI + Y_eye).dot(pref.T) # This is the yTCuPu term, where we add the eye back in\n",
    "                                                      # Cu - I + I = Cu\n",
    "            X[u] = spsolve(yTy + yTCuIY + lambda_eye, yTCupu)\n",
    "            # Solve for Xu = ((yTy + yT(Cu-I)Y + lambda*I)^-1)yTCuPu, equation 4 from the paper  \n",
    "        # Begin iteration to solve for Y based on fixed X \n",
    "        \n",
    "        print(\"Begin item\")\n",
    "        \n",
    "        for i in range(num_item):\n",
    "            conf_samp = conf[:,i].T.toarray() # transpose to get it in row format and convert to dense\n",
    "            pref = conf_samp.copy()\n",
    "            pref[pref != 0] = 1 # Create binarized preference vector\n",
    "            CiI = sparse.diags(conf_samp, [0]) # Get Ci - I term, don't need to subtract 1 since we never added it\n",
    "            xTCiIX = X.T.dot(CiI).dot(X) # This is the xT(Cu-I)X term\n",
    "            xTCiPi = X.T.dot(CiI).dot(pref.T) # This is the xTCiPi term\n",
    "            Y[i] = spsolve(xTCiIX + lambda_eye, xTCiPi)\n",
    "            # Solve for Yi = ((xTx + xT(Cu-I)X) + lambda*I)^-1)xTCiPi, equation 5 from the paper\n",
    "    # End iterations\n",
    "    return X, Y.T # Transpose at the end to make up for not being transposed at the beginning. \n",
    "                         # Y needs to be rank x n. Keep these as separate matrices for scale reasons. "
   ]
  },
  {
   "cell_type": "code",
   "execution_count": null,
   "metadata": {},
   "outputs": [],
   "source": [
    "start = time.time()\n",
    "user_vecs, item_vecs = implicit_weighted_ALS(product_train, lambda_val = 0.1, alpha = 15, iterations = 10,\n",
    "                                            rank_size = 20)\n",
    "print(\"total time taken to run the MF\", np.round((time.time() - start),2))"
   ]
  },
  {
   "cell_type": "code",
   "execution_count": 48,
   "metadata": {},
   "outputs": [
    {
     "data": {
      "text/plain": [
       "array([ 0.00117737,  0.00461647, -0.01130906,  0.03990974,  0.01435244])"
      ]
     },
     "execution_count": 48,
     "metadata": {},
     "output_type": "execute_result"
    }
   ],
   "source": [
    "user_vecs[0,:].dot(item_vecs).toarray()[0,:5]"
   ]
  },
  {
   "cell_type": "code",
   "execution_count": 49,
   "metadata": {},
   "outputs": [],
   "source": [
    "def auc_score(predictions, test):\n",
    "    '''\n",
    "    This simple function will output the area under the curve using sklearn's metrics. \n",
    "    \n",
    "    parameters:\n",
    "    \n",
    "    - predictions: your prediction output\n",
    "    \n",
    "    - test: the actual target result you are comparing to\n",
    "    \n",
    "    returns:\n",
    "    \n",
    "    - AUC (area under the Receiver Operating Characterisic curve)\n",
    "    '''\n",
    "    fpr, tpr, thresholds = metrics.roc_curve(test, predictions)\n",
    "    return metrics.auc(fpr, tpr)   \n"
   ]
  },
  {
   "cell_type": "code",
   "execution_count": 50,
   "metadata": {},
   "outputs": [],
   "source": [
    "def calc_mean_auc(training_set, altered_users, predictions, test_set):\n",
    "    '''\n",
    "    This function will calculate the mean AUC by user for any user that had their user-item matrix masked. \n",
    "    \n",
    "    parameters:\n",
    "    \n",
    "    training_set - The training set resulting from make_train, where a certain percentage of the original\n",
    "    user/item interactions are reset to zero to hide them from the model \n",
    "    \n",
    "    predictions - The matrix of your predicted ratings for each user/item pair as output from the MF.\n",
    "    These should be stored in a list, with user vectors as item zero and item vectors as item one. \n",
    "    \n",
    "    altered_users - The indices of the users where at least one user/item pair was altered from make_train function\n",
    "    \n",
    "    test_set - The test set constucted earlier from make_train function\n",
    "    \n",
    "    returns:\n",
    "    \n",
    "    The mean AUC (area under the Receiver Operator Characteristic curve) of the test set only on user-item interactions\n",
    "    there were originally zero to test ranking ability in addition to the most popular items as a benchmark.\n",
    "    '''\n",
    "    \n",
    "    store_auc = [] # An empty list to store the AUC for each user that had an item removed from the training set\n",
    "    popularity_auc = [] # To store popular AUC scores\n",
    "    pop_items = np.array(test_set.sum(axis = 0)).reshape(-1) # Get sum of item iteractions to find most popular\n",
    "    item_vecs = predictions[1]\n",
    "    for user in altered_users: # Iterate through each user that had an item altered\n",
    "        training_row = training_set[user,:].toarray().reshape(-1) # Get the training set row\n",
    "        zero_inds = np.where(training_row == 0) # Find where the interaction had not yet occurred\n",
    "        # Get the predicted values based on our user/item vectors\n",
    "        user_vec = predictions[0][user,:]\n",
    "        pred = user_vec.dot(item_vecs).toarray()[0,zero_inds].reshape(-1)\n",
    "        # Get only the items that were originally zero\n",
    "        # Select all ratings from the MF prediction for this user that originally had no iteraction\n",
    "        actual = test_set[user,:].toarray()[0,zero_inds].reshape(-1) \n",
    "        # Select the binarized yes/no interaction pairs from the original full data\n",
    "        # that align with the same pairs in training \n",
    "        pop = pop_items[zero_inds] # Get the item popularity for our chosen items\n",
    "        store_auc.append(auc_score(pred, actual)) # Calculate AUC for the given user and store\n",
    "        popularity_auc.append(auc_score(pop, actual)) # Calculate AUC using most popular and score\n",
    "    # End users iteration\n",
    "    \n",
    "    return float('%.3f'%np.mean(store_auc)), float('%.3f'%np.mean(popularity_auc))  \n",
    "   # Return the mean AUC rounded to three decimal places for both test and popularity benchmark\n"
   ]
  },
  {
   "cell_type": "code",
   "execution_count": 51,
   "metadata": {},
   "outputs": [
    {
     "name": "stdout",
     "output_type": "stream",
     "text": [
      "(39387, 20) (20, 23033)\n",
      "(39387, 20) (20, 23033)\n",
      "(39387, 23033)\n",
      "(39387, 23033)\n",
      "29909\n"
     ]
    }
   ],
   "source": [
    "print(user_vecs.shape, item_vecs.shape)\n",
    "print(sparse.csr_matrix(user_vecs).shape, sparse.csr_matrix(item_vecs).shape )\n",
    "print(product_train.shape)\n",
    "print(product_test.shape)\n",
    "print(len(product_users_altered))"
   ]
  },
  {
   "cell_type": "code",
   "execution_count": 52,
   "metadata": {},
   "outputs": [
    {
     "data": {
      "text/plain": [
       "(0.698, 0.704)"
      ]
     },
     "execution_count": 52,
     "metadata": {},
     "output_type": "execute_result"
    }
   ],
   "source": [
    "calc_mean_auc(product_train, product_users_altered, \n",
    "              [sparse.csr_matrix(user_vecs), sparse.csr_matrix(item_vecs)], product_test)\n",
    "# AUC for our recommender system"
   ]
  },
  {
   "cell_type": "code",
   "execution_count": 53,
   "metadata": {},
   "outputs": [
    {
     "name": "stdout",
     "output_type": "stream",
     "text": [
      "Begin iteration\n",
      "Begin iteration = 0\n",
      "Begin user\n",
      "Begin item\n",
      "Begin iteration = 1\n",
      "Begin user\n",
      "Begin item\n",
      "Begin iteration = 2\n",
      "Begin user\n",
      "Begin item\n",
      "Begin iteration = 3\n",
      "Begin user\n",
      "Begin item\n",
      "Begin iteration = 4\n",
      "Begin user\n",
      "Begin item\n",
      "Begin iteration = 5\n",
      "Begin user\n",
      "Begin item\n",
      "Begin iteration = 6\n",
      "Begin user\n",
      "Begin item\n",
      "Begin iteration = 7\n",
      "Begin user\n",
      "Begin item\n",
      "Begin iteration = 8\n",
      "Begin user\n",
      "Begin item\n",
      "Begin iteration = 9\n",
      "Begin user\n",
      "Begin item\n",
      "total time taken to run the MF 13495.49\n"
     ]
    }
   ],
   "source": [
    "start = time.time()\n",
    "user_vecs, item_vecs = implicit_weighted_ALS(product_train, lambda_val = 0.1, alpha = 15, iterations = 10,\n",
    "                                            rank_size = 40)\n",
    "print(\"total time taken to run the MF\", np.round((time.time() - start),2))"
   ]
  },
  {
   "cell_type": "code",
   "execution_count": 54,
   "metadata": {},
   "outputs": [
    {
     "data": {
      "text/plain": [
       "(0.683, 0.704)"
      ]
     },
     "execution_count": 54,
     "metadata": {},
     "output_type": "execute_result"
    }
   ],
   "source": [
    "calc_mean_auc(product_train, product_users_altered, \n",
    "              [sparse.csr_matrix(user_vecs), sparse.csr_matrix(item_vecs)], product_test)"
   ]
  },
  {
   "cell_type": "code",
   "execution_count": 55,
   "metadata": {},
   "outputs": [
    {
     "name": "stdout",
     "output_type": "stream",
     "text": [
      "Begin iteration\n",
      "Begin iteration = 0\n",
      "Begin user\n",
      "Begin item\n",
      "Begin iteration = 1\n",
      "Begin user\n",
      "Begin item\n",
      "Begin iteration = 2\n",
      "Begin user\n",
      "Begin item\n",
      "Begin iteration = 3\n",
      "Begin user\n",
      "Begin item\n",
      "Begin iteration = 4\n",
      "Begin user\n",
      "Begin item\n",
      "Begin iteration = 5\n",
      "Begin user\n",
      "Begin item\n",
      "Begin iteration = 6\n",
      "Begin user\n",
      "Begin item\n",
      "Begin iteration = 7\n",
      "Begin user\n",
      "Begin item\n",
      "Begin iteration = 8\n",
      "Begin user\n",
      "Begin item\n",
      "Begin iteration = 9\n",
      "Begin user\n",
      "Begin item\n",
      "total time taken to run the MF 13640.05\n"
     ]
    }
   ],
   "source": [
    "start = time.time()\n",
    "user_vecs, item_vecs = implicit_weighted_ALS(product_train, lambda_val = 0.1, alpha = 40, iterations = 10,\n",
    "                                            rank_size = 40)\n",
    "print(\"total time taken to run the MF\", np.round((time.time() - start),2))"
   ]
  },
  {
   "cell_type": "code",
   "execution_count": 56,
   "metadata": {},
   "outputs": [
    {
     "data": {
      "text/plain": [
       "(0.68, 0.704)"
      ]
     },
     "execution_count": 56,
     "metadata": {},
     "output_type": "execute_result"
    }
   ],
   "source": [
    "calc_mean_auc(product_train, product_users_altered, \n",
    "              [sparse.csr_matrix(user_vecs), sparse.csr_matrix(item_vecs)], product_test)"
   ]
  },
  {
   "cell_type": "code",
   "execution_count": 58,
   "metadata": {},
   "outputs": [],
   "source": [
    "import implicit"
   ]
  },
  {
   "cell_type": "code",
   "execution_count": 64,
   "metadata": {},
   "outputs": [
    {
     "name": "stderr",
     "output_type": "stream",
     "text": [
      "WARNING:implicit:This method is deprecated. Please use the AlternatingLeastSquares class instead\n",
      "100%|██████████| 50.0/50 [00:01<00:00, 37.96it/s]\n"
     ]
    }
   ],
   "source": [
    "alpha = 15\n",
    "user_vecs, item_vecs = implicit.alternating_least_squares((product_train*alpha).astype('double'), \n",
    "                                                          factors=10, \n",
    "                                                          regularization = 0.1, \n",
    "                                                         iterations = 50)"
   ]
  },
  {
   "cell_type": "code",
   "execution_count": 65,
   "metadata": {},
   "outputs": [
    {
     "data": {
      "text/plain": [
       "(0.745, 0.704)"
      ]
     },
     "execution_count": 65,
     "metadata": {},
     "output_type": "execute_result"
    }
   ],
   "source": [
    "calc_mean_auc(product_train, product_users_altered, \n",
    "              [sparse.csr_matrix(user_vecs), sparse.csr_matrix(item_vecs.T)], product_test)"
   ]
  },
  {
   "cell_type": "code",
   "execution_count": 69,
   "metadata": {},
   "outputs": [
    {
     "data": {
      "text/plain": [
       "(39387, 10)"
      ]
     },
     "execution_count": 69,
     "metadata": {},
     "output_type": "execute_result"
    }
   ],
   "source": [
    "user_vecs.shape"
   ]
  },
  {
   "cell_type": "code",
   "execution_count": 70,
   "metadata": {},
   "outputs": [],
   "source": [
    "rec_vector = user_vecs.dot(item_vecs.T)"
   ]
  },
  {
   "cell_type": "code",
   "execution_count": 71,
   "metadata": {},
   "outputs": [
    {
     "data": {
      "text/plain": [
       "(39387, 23033)"
      ]
     },
     "execution_count": 71,
     "metadata": {},
     "output_type": "execute_result"
    }
   ],
   "source": [
    "users = list(np.sort(df_fd.reviewerID.unique()))\n",
    "rec_vector.shape"
   ]
  }
 ],
 "metadata": {
  "kernelspec": {
   "display_name": "Python 3",
   "language": "python",
   "name": "python3"
  },
  "language_info": {
   "codemirror_mode": {
    "name": "ipython",
    "version": 3
   },
   "file_extension": ".py",
   "mimetype": "text/x-python",
   "name": "python",
   "nbconvert_exporter": "python",
   "pygments_lexer": "ipython3",
   "version": "3.6.8"
  }
 },
 "nbformat": 4,
 "nbformat_minor": 2
}
