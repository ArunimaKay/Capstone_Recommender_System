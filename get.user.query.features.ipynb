{
 "cells": [
  {
   "cell_type": "code",
   "execution_count": 100,
   "metadata": {},
   "outputs": [
    {
     "name": "stdout",
     "output_type": "stream",
     "text": [
      "Requirement already satisfied: mysql in /Users/burgew/miniconda3/envs/py3.7/lib/python3.7/site-packages (0.0.2)\r\n",
      "Requirement already satisfied: mysqlclient in /Users/burgew/miniconda3/envs/py3.7/lib/python3.7/site-packages (from mysql) (1.4.2.post1)\r\n"
     ]
    }
   ],
   "source": [
    "!pip install mysql"
   ]
  },
  {
   "cell_type": "code",
   "execution_count": 101,
   "metadata": {},
   "outputs": [],
   "source": [
    "from sqlalchemy import create_engine\n",
    "import mysql.connector\n",
    "import pandas as pd\n",
    "import os\n",
    "import gzip\n",
    "import spacy\n",
    "import time"
   ]
  },
  {
   "cell_type": "code",
   "execution_count": 102,
   "metadata": {},
   "outputs": [
    {
     "name": "stdout",
     "output_type": "stream",
     "text": [
      "Loading language model...\n",
      "...finished loading language model in 13.43523097038269 seconds\n"
     ]
    }
   ],
   "source": [
    "print(\"Loading language model...\")\n",
    "start = time.time()\n",
    "nlp = spacy.load('en_core_web_md', entity=False)\n",
    "print(\"...finished loading language model in {} seconds\".format(time.time()-start))"
   ]
  },
  {
   "cell_type": "code",
   "execution_count": 103,
   "metadata": {},
   "outputs": [],
   "source": [
    "def execute_query(query):\n",
    "    \"\"\" Execute a query agains the local MySQL DB (note I allow login by root without a password)\n",
    "    This function returns a list of results from the query, which may or may not be empty, depending on the query.\n",
    "    \"\"\"\n",
    "    #cnx = mysql.connector.connect(user='root', password='rootroot',\n",
    "    cnx = mysql.connector.connect(user='root',\n",
    "                                  host='127.0.0.1', port='3306',\n",
    "                                  #ssl_disabled = 'True',\n",
    "                                  database='recommender',\n",
    "                                  allow_local_infile = \"True\")\n",
    "    cursor = cnx.cursor(buffered=True)\n",
    "    cursor.execute(query)\n",
    "    results = []\n",
    "    for result in cursor:\n",
    "        results.append(result)\n",
    "    cnx.commit()\n",
    "    cursor.close()\n",
    "    cnx.close()\n",
    "    \n",
    "    return results"
   ]
  },
  {
   "cell_type": "code",
   "execution_count": 104,
   "metadata": {},
   "outputs": [
    {
     "name": "stdout",
     "output_type": "stream",
     "text": [
      "Found 774 product features.\n",
      "features like:  [board, age group?my, well area, color pencil, small child]\n"
     ]
    }
   ],
   "source": [
    "features_docs = []\n",
    "\n",
    "def setup_features():\n",
    "    \"\"\" Setup the spaCy doc instance for each feature. \n",
    "    This setup only needs to be run once, not for every time we evaluate a user query string.\"\"\"\n",
    "    \n",
    "    results = execute_query('SELECT DISTINCT feature FROM consolidated_features')\n",
    "    print(\"Found {} product features.\".format(len(results)))\n",
    "    features_items = []\n",
    "\n",
    "    for result in results:\n",
    "    \n",
    "        # The following ugly code was required to strip stuff of the start and end of features that were in the DB \n",
    "        clean_result = result[0].strip('\\\", ')\n",
    "        clean_result = clean_result.strip('\\\"')\n",
    "        clean_result = clean_result.strip('\\'')\n",
    "    \n",
    "        features_items.append(clean_result)\n",
    "    \n",
    "    for item in features_items:\n",
    "        features_docs.append(nlp(item))\n",
    "    \n",
    "    features_items = None\n",
    "    \n",
    "    print(\"features like: \", features_docs[:5])\n",
    "    \n",
    "setup_features()"
   ]
  },
  {
   "cell_type": "code",
   "execution_count": 105,
   "metadata": {},
   "outputs": [],
   "source": [
    "test_string = 'toys games puzzles activities blue'"
   ]
  },
  {
   "cell_type": "code",
   "execution_count": 106,
   "metadata": {},
   "outputs": [],
   "source": [
    "doc = nlp(test_string)"
   ]
  },
  {
   "cell_type": "code",
   "execution_count": 107,
   "metadata": {},
   "outputs": [],
   "source": [
    "these_results = []\n",
    "r_sims = []\n",
    "for r_doc in features_docs:\n",
    "    if (len(r_doc.text) > 0) and (r_doc.vector.any() > 0):\n",
    "        similarity = r_doc.similarity(doc)\n",
    "        r_sims.append((r_doc.text,similarity))\n",
    "s_sims = sorted(r_sims, key=lambda pair: -pair[1])\n",
    "r_sims = []"
   ]
  },
  {
   "cell_type": "code",
   "execution_count": 108,
   "metadata": {},
   "outputs": [
    {
     "data": {
      "text/plain": [
       "[('toy fun', 0.7770468190171068),\n",
       " ('fun toy', 0.7770468190171068),\n",
       " ('moby!moby fun toy', 0.7770468097120159),\n",
       " ('fun game', 0.7676796069572991),\n",
       " ('game fun', 0.7676796069572991),\n",
       " ('many toy', 0.7399413691513244),\n",
       " ('good educational toy', 0.7365114352526856),\n",
       " ('great educational toy', 0.7341752190342793),\n",
       " ('nice educational toy', 0.730732335533269),\n",
       " ('educational toy', 0.724685982540135)]"
      ]
     },
     "execution_count": 108,
     "metadata": {},
     "output_type": "execute_result"
    }
   ],
   "source": [
    "s_sims[:10]"
   ]
  },
  {
   "cell_type": "code",
   "execution_count": null,
   "metadata": {},
   "outputs": [],
   "source": []
  }
 ],
 "metadata": {
  "kernelspec": {
   "display_name": "Python [conda env:py3.7]",
   "language": "python",
   "name": "conda-env-py3.7-py"
  },
  "language_info": {
   "codemirror_mode": {
    "name": "ipython",
    "version": 3
   },
   "file_extension": ".py",
   "mimetype": "text/x-python",
   "name": "python",
   "nbconvert_exporter": "python",
   "pygments_lexer": "ipython3",
   "version": "3.7.3"
  }
 },
 "nbformat": 4,
 "nbformat_minor": 2
}
